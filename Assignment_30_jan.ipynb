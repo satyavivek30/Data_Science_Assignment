{
 "cells": [
  {
   "cell_type": "markdown",
   "id": "7186ba1b",
   "metadata": {},
   "source": [
    "##  Assignement 2 [30-jan-2023] "
   ]
  },
  {
   "cell_type": "markdown",
   "id": "7d17a034",
   "metadata": {},
   "source": [
    "##   Solution 1"
   ]
  },
  {
   "cell_type": "code",
   "execution_count": 6,
   "id": "2f9c1139",
   "metadata": {},
   "outputs": [
    {
     "name": "stdout",
     "output_type": "stream",
     "text": [
      "Enter the percentage : 59\n",
      "Your Grade is -> D\n"
     ]
    }
   ],
   "source": [
    "## Program to displasy the grade \n",
    "\n",
    "percentage = int(input(\"Enter the percentage : \"))\n",
    "\n",
    "# Grade\n",
    "\n",
    "if (percentage > 90):\n",
    "    print(\"Your Grade is -> A\")\n",
    "elif(percentage > 80 and percentage <=90):\n",
    "    print(\"Your Grade is -> B\")\n",
    "elif (percentage >= 60 and percentage <= 80):\n",
    "    print(\"Your Grade is  -> C\")\n",
    "else:\n",
    "    print(\"Your Grade is -> D\")"
   ]
  },
  {
   "cell_type": "markdown",
   "id": "3a8c28e4",
   "metadata": {},
   "source": [
    "##  Solution 2"
   ]
  },
  {
   "cell_type": "code",
   "execution_count": 14,
   "id": "cc752e79",
   "metadata": {},
   "outputs": [
    {
     "name": "stdout",
     "output_type": "stream",
     "text": [
      "Enter the Bike Cost : 80000\n",
      " Road tax is : 8000.0\n"
     ]
    }
   ],
   "source": [
    "## Program to display the road tax.\n",
    "\n",
    "bikeCost = int(input(\"Enter the Bike Cost : \" ))\n",
    "\n",
    "# Road Tax \n",
    "\n",
    "if (bikeCost > 100000):\n",
    "    print(\" Road tax is :\", bikeCost * (15 / 100))\n",
    "    \n",
    "elif (bikeCost > 50000 and bikeCost <= 100000):\n",
    "    print(\" Road tax is :\", bikeCost * (10 / 100))\n",
    "\n",
    "else:\n",
    "    print(\" Road tax is :\", bikeCost * (5 / 100))\n",
    "    "
   ]
  },
  {
   "cell_type": "markdown",
   "id": "d333259e",
   "metadata": {},
   "source": [
    "## Solution 3 "
   ]
  },
  {
   "cell_type": "code",
   "execution_count": 19,
   "id": "4dcef90c",
   "metadata": {},
   "outputs": [
    {
     "name": "stdout",
     "output_type": "stream",
     "text": [
      "Enter the city name : DELHI\n",
      "Monument is : Red Fort\n"
     ]
    }
   ],
   "source": [
    "## Program to display the monument of the city\n",
    "\n",
    "city = str(input(\"Enter the city name : \"))\n",
    "\n",
    "cityName = city.lower()\n",
    "\n",
    "if(cityName == \"delhi\"):\n",
    "    print(\"Monument is : Red Fort\")\n",
    "\n",
    "elif(cityName == \"agra\"):\n",
    "    print(\"Monument is : Tah Mahal\")\n",
    "\n",
    "elif(cityName == \"jaipur\"):\n",
    "    print(\"Monument is : Jal Mahal\")\n",
    "\n",
    "else :\n",
    "    print(\"Invalid City Name\")"
   ]
  },
  {
   "cell_type": "markdown",
   "id": "dfde07f4",
   "metadata": {},
   "source": [
    "## Solution 4 "
   ]
  },
  {
   "cell_type": "code",
   "execution_count": 23,
   "id": "f94703da",
   "metadata": {},
   "outputs": [
    {
     "name": "stdout",
     "output_type": "stream",
     "text": [
      "Enter the number : 50\n",
      "11\n"
     ]
    }
   ],
   "source": [
    "## Progam to check how many times a given number can be divided by 3 before it is less than ot equal to 10\n",
    "\n",
    "number  = int(input(\"Enter the number : \"))\n",
    "\n",
    "count = 0\n",
    "while (count<= 10):\n",
    "    if (number / 3 ):\n",
    "        count = count + 1\n",
    "\n",
    "print(count)"
   ]
  },
  {
   "cell_type": "markdown",
   "id": "9ee212ab",
   "metadata": {},
   "source": [
    "## Solution 5"
   ]
  },
  {
   "cell_type": "markdown",
   "id": "f59d6911",
   "metadata": {},
   "source": [
    "In python while loop act as control statement. it allow user to execute rhe block untill the certain condition met. After meeting the certain condition the block will terminated. "
   ]
  },
  {
   "cell_type": "markdown",
   "id": "cd824ea5",
   "metadata": {},
   "source": [
    "####  Example of while loop"
   ]
  },
  {
   "cell_type": "code",
   "execution_count": 32,
   "id": "e1221242",
   "metadata": {},
   "outputs": [
    {
     "name": "stdout",
     "output_type": "stream",
     "text": [
      "1\n",
      "2\n",
      "3\n",
      "4\n",
      "5\n",
      "6\n",
      "7\n",
      "8\n",
      "9\n",
      "10\n"
     ]
    }
   ],
   "source": [
    "## Print the digit in from 1 to 10\n",
    "\n",
    "i = 1\n",
    "\n",
    "while (i <= 10):  ## terminating condition \n",
    "    print(i)\n",
    "    i+=1 ## it decide the number of iteration\n",
    "    \n"
   ]
  },
  {
   "cell_type": "markdown",
   "id": "a8207800",
   "metadata": {},
   "source": [
    "## Solution 6 "
   ]
  },
  {
   "cell_type": "code",
   "execution_count": 38,
   "id": "c576f987",
   "metadata": {
    "scrolled": true
   },
   "outputs": [
    {
     "name": "stdout",
     "output_type": "stream",
     "text": [
      "enter the number for pattern : 5\n",
      "\n",
      "*\n",
      "**\n",
      "***\n",
      "****\n",
      "*****\n"
     ]
    }
   ],
   "source": [
    "## 1st pattern\n",
    "'''\n",
    "*\n",
    "**\n",
    "***\n",
    "****\n",
    "*****\n",
    "'''\n",
    "\n",
    "n = int(input(\"enter the number for pattern : \"))\n",
    "i = 0\n",
    "j = 0\n",
    "while(i <= n):\n",
    "    while(j <= n):\n",
    "        print(j * '*')\n",
    "        j+= 1\n",
    "    i+=1\n",
    "    \n"
   ]
  },
  {
   "cell_type": "code",
   "execution_count": 43,
   "id": "1d891167",
   "metadata": {},
   "outputs": [
    {
     "name": "stdout",
     "output_type": "stream",
     "text": [
      "enter the number for pattern : 5\n",
      "*****\n",
      "*****\n",
      "*****\n",
      "*****\n",
      "*****\n"
     ]
    }
   ],
   "source": [
    "## Pattern 2\n",
    "\n",
    "'''\n",
    "*****\n",
    "*****\n",
    "*****\n",
    "*****\n",
    "*****\n",
    "'''\n",
    "\n",
    "n = int(input(\"enter the number for pattern : \"))\n",
    "i = 0\n",
    "j = 0\n",
    "while(i < n):\n",
    "    while(j < n):\n",
    "        print(n * '*')\n",
    "        j+= 1\n",
    "    i+=1\n",
    "    "
   ]
  },
  {
   "cell_type": "code",
   "execution_count": 99,
   "id": "5a5a1b5a",
   "metadata": {},
   "outputs": [
    {
     "name": "stdout",
     "output_type": "stream",
     "text": [
      "enter the number for pattern : 5\n",
      "*\n",
      "**\n",
      "***\n",
      "****\n",
      "*****\n"
     ]
    }
   ],
   "source": [
    "\n",
    "n = int(input(\"enter the number for pattern : \"))\n",
    "i = 0\n",
    "j = 1\n",
    "k = 0\n",
    "while(i < n):\n",
    "    while (j <= n-i):\n",
    "        print(\"*\" * j)\n",
    "        j+=1\n",
    "    i= i+1"
   ]
  },
  {
   "cell_type": "markdown",
   "id": "55ae98bb",
   "metadata": {},
   "source": [
    " ## Solution 7 "
   ]
  },
  {
   "cell_type": "code",
   "execution_count": 94,
   "id": "866d316b",
   "metadata": {},
   "outputs": [
    {
     "name": "stdout",
     "output_type": "stream",
     "text": [
      "10  9  8  7  6  5  4  3  2  1  "
     ]
    }
   ],
   "source": [
    "## program to print the number form 10 to 1 using while loop\n",
    "\n",
    "i = 10\n",
    "while (i != 0):\n",
    "    print(i, end = \"  \")\n",
    "    i = i-1"
   ]
  },
  {
   "cell_type": "code",
   "execution_count": null,
   "id": "e3aaaae0",
   "metadata": {},
   "outputs": [],
   "source": []
  }
 ],
 "metadata": {
  "kernelspec": {
   "display_name": "Python 3 (ipykernel)",
   "language": "python",
   "name": "python3"
  },
  "language_info": {
   "codemirror_mode": {
    "name": "ipython",
    "version": 3
   },
   "file_extension": ".py",
   "mimetype": "text/x-python",
   "name": "python",
   "nbconvert_exporter": "python",
   "pygments_lexer": "ipython3",
   "version": "3.9.16"
  }
 },
 "nbformat": 4,
 "nbformat_minor": 5
}
