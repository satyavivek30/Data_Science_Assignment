{
  "nbformat": 4,
  "nbformat_minor": 0,
  "metadata": {
    "colab": {
      "provenance": []
    },
    "kernelspec": {
      "name": "python3",
      "display_name": "Python 3"
    },
    "language_info": {
      "name": "python"
    }
  },
  "cells": [
    {
      "cell_type": "markdown",
      "source": [
        "## Assignment 20-Feb-2023"
      ],
      "metadata": {
        "id": "G-KfhY_SEVdR"
      }
    },
    {
      "cell_type": "markdown",
      "source": [
        "**Q1):** Explain GET and POST methods.?"
      ],
      "metadata": {
        "id": "A1oSdjPWEasZ"
      }
    },
    {
      "cell_type": "markdown",
      "source": [
        "**Solution:**\n",
        "\n",
        "**Get Method** It is used to request the data fro server. When a client sends a GET request, if asks the server to retrive the specific resource and send it back in the form of response.\n",
        "\n",
        "**PUT Method** It is  used to submit the data to the server for processing or to create/update a resource on the server. When client send a POST request the data is included in the body of the request, rather than URL."
      ],
      "metadata": {
        "id": "8nzL3ghjEi7m"
      }
    },
    {
      "cell_type": "markdown",
      "source": [
        "**Q2):** Why is request used in Flask?"
      ],
      "metadata": {
        "id": "Pg-1zxcYFeyM"
      }
    },
    {
      "cell_type": "markdown",
      "source": [
        "**Solution:** In Flask the request object is used to access the incoming request data sent by client to a Flask application. It provide a convenient way to retrive and manipluate the data contained in th request such as from data, query parameter, headers cookies."
      ],
      "metadata": {
        "id": "L4eAiMCxFhic"
      }
    },
    {
      "cell_type": "markdown",
      "source": [
        "**Q3):** Why is redirect() used in Flask?"
      ],
      "metadata": {
        "id": "jOhXx6D6GXPn"
      }
    },
    {
      "cell_type": "markdown",
      "source": [
        "**Solution:** In Flask, the redirect() function is used to perform a redirect to a different URL or route within the application. It allows you to redirect the client's browser to a new location, either within your Flask application or to an external URL."
      ],
      "metadata": {
        "id": "D82MPDb4GZrl"
      }
    },
    {
      "cell_type": "markdown",
      "source": [
        "**Q4):** what are templates in Flask? Why is the render_template() function used?"
      ],
      "metadata": {
        "id": "CwQI3dzVGxKX"
      }
    },
    {
      "cell_type": "markdown",
      "source": [
        "**Solution:** Templet in Flask is used to generate the dynamic HTML pages or type of response that are sent back to the client.  Templet allow you to seperate the presentation logic from the application logic, making it easier to manage and maintain your web application.\n",
        "\n",
        "**render_templet()** function is used to generate a response from a templet flask. it takes the name of the templet file as an argument, along with any additional variables or data that need to be processed to the templete."
      ],
      "metadata": {
        "id": "y07rsrhHHnpn"
      }
    },
    {
      "cell_type": "code",
      "execution_count": null,
      "metadata": {
        "id": "vKkLALIpEREz"
      },
      "outputs": [],
      "source": []
    }
  ]
}