{
  "nbformat": 4,
  "nbformat_minor": 0,
  "metadata": {
    "colab": {
      "provenance": []
    },
    "kernelspec": {
      "name": "python3",
      "display_name": "Python 3"
    },
    "language_info": {
      "name": "python"
    }
  },
  "cells": [
    {
      "cell_type": "markdown",
      "source": [
        "**Q1) ->** what is exception in python? Write the difference between exception and syntax?"
      ],
      "metadata": {
        "id": "o1MO8G0M7cAw"
      }
    },
    {
      "cell_type": "markdown",
      "source": [
        "**Exception :**  An exception is an event which occur during the execution of a program that disrupts the norma flow of program's instruction. When an exception situation occurs such as an error or unexpected condition, Python raises an exception to signal that something has gone wrong."
      ],
      "metadata": {
        "id": "EeKMuOzP7zk1"
      }
    },
    {
      "cell_type": "markdown",
      "source": [
        "###Difference between Syntax Error and Exception\n",
        "\n",
        "**Syntax Error ->**\n",
        "\n",
        "\n",
        "1.   When python interpreter encountercode that does not confirm the language's syntax rule.\n",
        "2.   It prevent the program from runn ing ans need to be fixed before prgram executed.\n",
        " \n",
        "\n",
        "**Exception ->**\n",
        "\n",
        "\n",
        "1.   It occur during the execution of a program when as error or unexpected condition arises.\n",
        "2.   These error are typically caused by factor such as an invalid, unexpected behaviour, or runtime issue.\n",
        "3.    Exception can be cought and handled using exception handling by constructing the **try** and **except** blocks.\n"
      ],
      "metadata": {
        "id": "9zKkPmHR8weT"
      }
    },
    {
      "cell_type": "markdown",
      "source": [
        "**Q2) ->** What happen when an exception is not handled ? explain with example ?"
      ],
      "metadata": {
        "id": "UeOYtXuC-tQK"
      }
    },
    {
      "cell_type": "markdown",
      "source": [
        "**Solution :** When exception is not handled properly, it move up the cell stack until it reaches the top level of the program.If the exception is still not handled at that point, the program terminate abruptly and an error message known as traceback is displayed."
      ],
      "metadata": {
        "id": "5Cd5IsHa_wTs"
      }
    },
    {
      "cell_type": "code",
      "execution_count": 1,
      "metadata": {
        "colab": {
          "base_uri": "https://localhost:8080/",
          "height": 362
        },
        "id": "D_DGdQrj7U5N",
        "outputId": "f127cd81-059a-40dd-fc7e-6efd9457b8a5"
      },
      "outputs": [
        {
          "output_type": "error",
          "ename": "ZeroDivisionError",
          "evalue": "ignored",
          "traceback": [
            "\u001b[0;31m---------------------------------------------------------------------------\u001b[0m",
            "\u001b[0;31mZeroDivisionError\u001b[0m                         Traceback (most recent call last)",
            "\u001b[0;32m<ipython-input-1-c9356dd2185c>\u001b[0m in \u001b[0;36m<cell line: 8>\u001b[0;34m()\u001b[0m\n\u001b[1;32m      6\u001b[0m     \u001b[0;32mreturn\u001b[0m \u001b[0mresult\u001b[0m\u001b[0;34m\u001b[0m\u001b[0;34m\u001b[0m\u001b[0m\n\u001b[1;32m      7\u001b[0m \u001b[0;34m\u001b[0m\u001b[0m\n\u001b[0;32m----> 8\u001b[0;31m \u001b[0msol\u001b[0m \u001b[0;34m=\u001b[0m \u001b[0msolution\u001b[0m\u001b[0;34m(\u001b[0m\u001b[0;34m)\u001b[0m\u001b[0;34m\u001b[0m\u001b[0;34m\u001b[0m\u001b[0m\n\u001b[0m",
            "\u001b[0;32m<ipython-input-1-c9356dd2185c>\u001b[0m in \u001b[0;36msolution\u001b[0;34m()\u001b[0m\n\u001b[1;32m      3\u001b[0m \u001b[0;34m\u001b[0m\u001b[0m\n\u001b[1;32m      4\u001b[0m \u001b[0;32mdef\u001b[0m \u001b[0msolution\u001b[0m\u001b[0;34m(\u001b[0m\u001b[0;34m)\u001b[0m\u001b[0;34m:\u001b[0m\u001b[0;34m\u001b[0m\u001b[0;34m\u001b[0m\u001b[0m\n\u001b[0;32m----> 5\u001b[0;31m     \u001b[0mresult\u001b[0m \u001b[0;34m=\u001b[0m \u001b[0mdivide\u001b[0m\u001b[0;34m(\u001b[0m\u001b[0;36m10\u001b[0m\u001b[0;34m,\u001b[0m \u001b[0;36m0\u001b[0m\u001b[0;34m)\u001b[0m\u001b[0;34m\u001b[0m\u001b[0;34m\u001b[0m\u001b[0m\n\u001b[0m\u001b[1;32m      6\u001b[0m     \u001b[0;32mreturn\u001b[0m \u001b[0mresult\u001b[0m\u001b[0;34m\u001b[0m\u001b[0;34m\u001b[0m\u001b[0m\n\u001b[1;32m      7\u001b[0m \u001b[0;34m\u001b[0m\u001b[0m\n",
            "\u001b[0;32m<ipython-input-1-c9356dd2185c>\u001b[0m in \u001b[0;36mdivide\u001b[0;34m(a, b)\u001b[0m\n\u001b[1;32m      1\u001b[0m \u001b[0;32mdef\u001b[0m \u001b[0mdivide\u001b[0m\u001b[0;34m(\u001b[0m\u001b[0ma\u001b[0m\u001b[0;34m,\u001b[0m \u001b[0mb\u001b[0m\u001b[0;34m)\u001b[0m\u001b[0;34m:\u001b[0m\u001b[0;34m\u001b[0m\u001b[0;34m\u001b[0m\u001b[0m\n\u001b[0;32m----> 2\u001b[0;31m     \u001b[0;32mreturn\u001b[0m \u001b[0ma\u001b[0m \u001b[0;34m/\u001b[0m \u001b[0mb\u001b[0m\u001b[0;34m\u001b[0m\u001b[0;34m\u001b[0m\u001b[0m\n\u001b[0m\u001b[1;32m      3\u001b[0m \u001b[0;34m\u001b[0m\u001b[0m\n\u001b[1;32m      4\u001b[0m \u001b[0;32mdef\u001b[0m \u001b[0msolution\u001b[0m\u001b[0;34m(\u001b[0m\u001b[0;34m)\u001b[0m\u001b[0;34m:\u001b[0m\u001b[0;34m\u001b[0m\u001b[0;34m\u001b[0m\u001b[0m\n\u001b[1;32m      5\u001b[0m     \u001b[0mresult\u001b[0m \u001b[0;34m=\u001b[0m \u001b[0mdivide\u001b[0m\u001b[0;34m(\u001b[0m\u001b[0;36m10\u001b[0m\u001b[0;34m,\u001b[0m \u001b[0;36m0\u001b[0m\u001b[0;34m)\u001b[0m\u001b[0;34m\u001b[0m\u001b[0;34m\u001b[0m\u001b[0m\n",
            "\u001b[0;31mZeroDivisionError\u001b[0m: division by zero"
          ]
        }
      ],
      "source": [
        "def divide(a, b):\n",
        "    return a / b\n",
        "\n",
        "def solution():\n",
        "    result = divide(10, 0)\n",
        "    return result\n",
        "\n",
        "sol = solution()"
      ]
    },
    {
      "cell_type": "markdown",
      "source": [
        "**Q3) ->** Which python statement are used to catch and handle exception? Explain with example?"
      ],
      "metadata": {
        "id": "KYCv5EstB89z"
      }
    },
    {
      "cell_type": "markdown",
      "source": [
        "**Solution ->** In python **try-except** is used to catch and handle the exception.\n",
        "Example are as follows :->"
      ],
      "metadata": {
        "id": "OsLoZP5iCd34"
      }
    },
    {
      "cell_type": "code",
      "source": [
        "def divide(a, b):\n",
        "    try:\n",
        "        result =  a / b\n",
        "    except:\n",
        "        print(\"Zero Division error occurs\")\n",
        "    else :\n",
        "        print(\"Result : \", result)\n",
        "\n",
        "\n",
        "sol = divide(10,0)\n"
      ],
      "metadata": {
        "colab": {
          "base_uri": "https://localhost:8080/"
        },
        "id": "QVs_ljDtBvg2",
        "outputId": "e75c48b8-1fa9-45e4-f35e-9f95b5c44303"
      },
      "execution_count": 9,
      "outputs": [
        {
          "output_type": "stream",
          "name": "stdout",
          "text": [
            "Zero Division error occurs\n"
          ]
        }
      ]
    },
    {
      "cell_type": "markdown",
      "source": [
        "**Q4) ->** Explain with example ⁉\n",
        "1. try and else\n",
        "2. finally\n",
        "3. raise"
      ],
      "metadata": {
        "id": "FmJXtqZwI6re"
      }
    },
    {
      "cell_type": "markdown",
      "source": [
        "**Solution ->**\n",
        "1. **try and else :** In python we can use else clause on try and exept block which must be present after all the except clause.\\\n",
        "The code enter when try block is not raise an exception.\n",
        "\n",
        "**Example**"
      ],
      "metadata": {
        "id": "EQooFFX9JNoa"
      }
    },
    {
      "cell_type": "code",
      "source": [
        "def XbyY(x, y):\n",
        "    try:\n",
        "        z = ((x+y) / (x-y))\n",
        "\n",
        "    except ZeroDivisionError:\n",
        "        print(\"X/Y result is 0\")\n",
        "    else:\n",
        "        print(z)\n",
        "\n",
        "XbyY(2.0, 3.0)\n",
        "XbyY(3.0, 3.0)\n"
      ],
      "metadata": {
        "colab": {
          "base_uri": "https://localhost:8080/"
        },
        "id": "h3-j1cJeJytE",
        "outputId": "fca1dde7-5b72-4563-b593-719cbf749b7c"
      },
      "execution_count": 12,
      "outputs": [
        {
          "output_type": "stream",
          "name": "stdout",
          "text": [
            "-5.0\n",
            "X/Y result is 0\n"
          ]
        }
      ]
    },
    {
      "cell_type": "markdown",
      "source": [
        "2. **Finally:** In python Finally is a keyword which is always executed after the try and except block. \n",
        "The finally block always execute wheather try block raise exception or not.\n",
        "\n",
        "**Example**"
      ],
      "metadata": {
        "id": "9eyKGe7OLFdQ"
      }
    },
    {
      "cell_type": "code",
      "source": [
        "try:\n",
        "    t = 5 // 0\n",
        "    print(t)\n",
        "\n",
        "except ZeroDivisionError:\n",
        "    print(\"Cant divide by zero\")\n",
        "\n",
        "finally:\n",
        "    print(\"this block is always executed\")"
      ],
      "metadata": {
        "colab": {
          "base_uri": "https://localhost:8080/"
        },
        "id": "5Uv-t6pBDEPq",
        "outputId": "7b44144b-ee5b-44ae-908a-b0a8faf2ca48"
      },
      "execution_count": 13,
      "outputs": [
        {
          "output_type": "stream",
          "name": "stdout",
          "text": [
            "Cant divide by zero\n",
            "this block is always executed\n"
          ]
        }
      ]
    },
    {
      "cell_type": "markdown",
      "source": [
        "3. **Raise:** The raise statement allow user to force a specific exception to occur. The sole argument to in raise indicate the exception to be raised.\n",
        "\n",
        "This must be either an exception instance or an exception class.\n",
        "\n",
        "**Example**"
      ],
      "metadata": {
        "id": "KdBYC3XMMtiY"
      }
    },
    {
      "cell_type": "code",
      "source": [
        "try:\n",
        "    raise NameError(\"hi There\")\n",
        "except NameError:\n",
        "    print(\"An Excpetion\")\n",
        "    raise"
      ],
      "metadata": {
        "colab": {
          "base_uri": "https://localhost:8080/",
          "height": 264
        },
        "id": "CLCCAfSOMq7Y",
        "outputId": "6a356933-9c06-4280-8f97-ac0eaabea202"
      },
      "execution_count": 15,
      "outputs": [
        {
          "output_type": "stream",
          "name": "stdout",
          "text": [
            "An Excpetion\n"
          ]
        },
        {
          "output_type": "error",
          "ename": "NameError",
          "evalue": "ignored",
          "traceback": [
            "\u001b[0;31m---------------------------------------------------------------------------\u001b[0m",
            "\u001b[0;31mNameError\u001b[0m                                 Traceback (most recent call last)",
            "\u001b[0;32m<ipython-input-15-8746037ea636>\u001b[0m in \u001b[0;36m<cell line: 1>\u001b[0;34m()\u001b[0m\n\u001b[1;32m      1\u001b[0m \u001b[0;32mtry\u001b[0m\u001b[0;34m:\u001b[0m\u001b[0;34m\u001b[0m\u001b[0;34m\u001b[0m\u001b[0m\n\u001b[0;32m----> 2\u001b[0;31m     \u001b[0;32mraise\u001b[0m \u001b[0mNameError\u001b[0m\u001b[0;34m(\u001b[0m\u001b[0;34m\"hi There\"\u001b[0m\u001b[0;34m)\u001b[0m\u001b[0;34m\u001b[0m\u001b[0;34m\u001b[0m\u001b[0m\n\u001b[0m\u001b[1;32m      3\u001b[0m \u001b[0;32mexcept\u001b[0m \u001b[0mNameError\u001b[0m\u001b[0;34m:\u001b[0m\u001b[0;34m\u001b[0m\u001b[0;34m\u001b[0m\u001b[0m\n\u001b[1;32m      4\u001b[0m     \u001b[0mprint\u001b[0m\u001b[0;34m(\u001b[0m\u001b[0;34m\"An Excpetion\"\u001b[0m\u001b[0;34m)\u001b[0m\u001b[0;34m\u001b[0m\u001b[0;34m\u001b[0m\u001b[0m\n\u001b[1;32m      5\u001b[0m     \u001b[0;32mraise\u001b[0m\u001b[0;34m\u001b[0m\u001b[0;34m\u001b[0m\u001b[0m\n",
            "\u001b[0;31mNameError\u001b[0m: hi There"
          ]
        }
      ]
    },
    {
      "cell_type": "markdown",
      "source": [
        "**Q5) ->** What are custom exception in python? why Do we need Custom Exception? Explain with example?"
      ],
      "metadata": {
        "id": "uU79l9Euqplc"
      }
    },
    {
      "cell_type": "markdown",
      "source": [
        "**Solution ->** In python exception are user defined exception class that you create to handle specific exceptional situation in your code . \n",
        "\n",
        "By creating custom exception, you can provide more meaningful and specific error message, encapsulate related functionality and handle exception case in a more organised and structured way.\n",
        "\n",
        "**Need of Custom Exception**\n",
        "1. It allow you to defined exception class that are specific to your application domainsor spcific error scenarios.\n",
        "2. By encapsulating related functionality with custom exception you can modularity and reusability in you code.\n",
        "3. It can be organised in herarchy where more general exception class can serve for more specific ones.\n",
        "\n",
        "**Example**"
      ],
      "metadata": {
        "id": "qQAyeDklqy37"
      }
    },
    {
      "cell_type": "code",
      "source": [
        "class validateage(Exception):\n",
        "\n",
        "    def __init__(self, msg):\n",
        "        self.msg = msg"
      ],
      "metadata": {
        "id": "EeBEIS1rOajm"
      },
      "execution_count": 16,
      "outputs": []
    },
    {
      "cell_type": "code",
      "source": [
        "def validate_age(age):\n",
        "    if age < 0:\n",
        "        raise (validateage(\"age should not be lesser than zero\"))\n",
        "\n",
        "    elif age > 200:\n",
        "        raise validateage(\"age is too high\")\n",
        "\n",
        "    else :\n",
        "        print(\" age is valid\")"
      ],
      "metadata": {
        "id": "8cmZcT6Xs73e"
      },
      "execution_count": 17,
      "outputs": []
    },
    {
      "cell_type": "code",
      "source": [
        "try :\n",
        "    age = int(input(\"enter the age \" ))\n",
        "\n",
        "    validate_age(age)\n",
        "\n",
        "except Exception as e:\n",
        "    print(e)"
      ],
      "metadata": {
        "colab": {
          "base_uri": "https://localhost:8080/"
        },
        "id": "a7q6FtGXs-Ds",
        "outputId": "f22b8cda-e62d-4df1-a052-b56765cd5cd5"
      },
      "execution_count": 18,
      "outputs": [
        {
          "output_type": "stream",
          "name": "stdout",
          "text": [
            "enter the age 25\n",
            " age is valid\n"
          ]
        }
      ]
    },
    {
      "cell_type": "markdown",
      "source": [
        "**Q6)->** create a custom exception class. use this class to handle an exception?"
      ],
      "metadata": {
        "id": "Ozwp3GI7trcB"
      }
    },
    {
      "cell_type": "code",
      "source": [
        "# Solution\n",
        "\n",
        "class customException(Exception):\n",
        "\n",
        "    def __init__(self, msg):\n",
        "        self.msg = msg\n",
        "\n",
        "def operation(value):\n",
        "    try:\n",
        "        if value < 0:\n",
        "            raise customException(\"Invalid input, The number must be positive\")\n",
        "        else:\n",
        "            print(\"Operation succeed\")\n",
        "    \n",
        "    except customException as e:\n",
        "        print(\"CustomeException occured : \", e.msg)\n",
        "\n",
        "operation(10)\n",
        "operation(-5)"
      ],
      "metadata": {
        "colab": {
          "base_uri": "https://localhost:8080/"
        },
        "id": "wdoOwEFHtAvM",
        "outputId": "2b65fec9-551d-4bdc-fb7e-23d368b170c6"
      },
      "execution_count": 22,
      "outputs": [
        {
          "output_type": "stream",
          "name": "stdout",
          "text": [
            "Operation succeed\n",
            "CustomeException occured :  Invalid input, The number must be positive\n"
          ]
        }
      ]
    },
    {
      "cell_type": "code",
      "source": [],
      "metadata": {
        "id": "LrS6vtGTu0i2"
      },
      "execution_count": null,
      "outputs": []
    }
  ]
}