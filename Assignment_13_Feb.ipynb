{
  "nbformat": 4,
  "nbformat_minor": 0,
  "metadata": {
    "colab": {
      "provenance": []
    },
    "kernelspec": {
      "name": "python3",
      "display_name": "Python 3"
    },
    "language_info": {
      "name": "python"
    }
  },
  "cells": [
    {
      "cell_type": "markdown",
      "source": [
        "**Q1)->** Explain why we have to use the Exception class while creating a Custom Exception."
      ],
      "metadata": {
        "id": "pM-oeBqiKBU7"
      }
    },
    {
      "cell_type": "markdown",
      "source": [
        "**Solution ->** When creating custom exception in a programming language, it is generally recommended todrive your custome exception class form a built in **Exception** class or its appropriate sub class providede by th language.\n",
        "\n",
        "**Advantage**\n",
        "\n",
        "1. Consistency and familiarity\n",
        "2. Error handling and catching\n",
        "3. Polymorphism and Type Checking \n",
        "4. Exception Heirarchy\n",
        "5. Language feature and liberaries"
      ],
      "metadata": {
        "id": "uXwYCzCjKhTc"
      }
    },
    {
      "cell_type": "markdown",
      "source": [
        "**Q2)->** Write a python program to print Python Exception Hierarchy."
      ],
      "metadata": {
        "id": "aBep36cGLnOk"
      }
    },
    {
      "cell_type": "code",
      "execution_count": null,
      "metadata": {
        "id": "T8J_8KPkJ7nw"
      },
      "outputs": [],
      "source": [
        "# Solution\n",
        "\n",
        "import inspect\n",
        "\n",
        "def treeClass(cls, index = 0):\n",
        "    print('-'*index, cls.__name__)\n",
        "\n",
        "    for i in cls.__subclasses__():\n",
        "        treeClass(i, index+3)\n",
        "\n",
        "print(\"Hierarchy for Built-in Exception is : \")\n",
        "\n",
        "inspect.getclasstree(inspect.getmro(BaseException))\n",
        "treeClass(BaseException)"
      ]
    },
    {
      "cell_type": "markdown",
      "source": [
        "**Q3)->** What errors are defined in the ArithmeticError class? Explain any two with an example."
      ],
      "metadata": {
        "id": "kNwOTzATPw_f"
      }
    },
    {
      "cell_type": "markdown",
      "source": [
        "**ArithmaticError:** ArithmaticError class in python is a base class for all error related to the arithmatic operations.\n",
        "\n",
        "**Some *ArithmaticError* are as follows**\n",
        "\n",
        "1. ZeroDivisionError\n",
        "2. OverFlowError"
      ],
      "metadata": {
        "id": "Z7BzlcGHQu60"
      }
    },
    {
      "cell_type": "code",
      "source": [
        "##ZeroDivisionError\n",
        "\n",
        "def divide(a, b):\n",
        "    try:\n",
        "        result = a / b\n",
        "    except ZeroDivisionError as e:\n",
        "        print(\"Error : \", e)\n",
        "    else:\n",
        "        print(\"result is :\",result)\n",
        "\n",
        "divide(10, 0)\n",
        "divide(10, 2)"
      ],
      "metadata": {
        "colab": {
          "base_uri": "https://localhost:8080/"
        },
        "id": "_zht-qebOyHW",
        "outputId": "ff11c435-9f27-4cbc-8def-cc3d05d1b50f"
      },
      "execution_count": null,
      "outputs": [
        {
          "output_type": "stream",
          "name": "stdout",
          "text": [
            "Error :  division by zero\n",
            "result is : 5.0\n"
          ]
        }
      ]
    },
    {
      "cell_type": "code",
      "source": [
        "## OverFlowError\n",
        "\n",
        "def fact(n):\n",
        "    try:\n",
        "        factorial = 1\n",
        "        for i in range(1, n+1):\n",
        "            factorial *= i\n",
        "        print(\"Factorial : \", factorial)\n",
        "    \n",
        "    except OverflowError as e:\n",
        "        print(\"Error is \",e)\n",
        "\n",
        "fact(5)\n",
        "fact(1000)"
      ],
      "metadata": {
        "colab": {
          "base_uri": "https://localhost:8080/"
        },
        "id": "Z1u584sFSAS_",
        "outputId": "c57f7dde-6e8f-458b-df77-3775a4e62ea7"
      },
      "execution_count": null,
      "outputs": [
        {
          "output_type": "stream",
          "name": "stdout",
          "text": [
            "Factorial :  120\n",
            "Factorial :  402387260077093773543702433923003985719374864210714632543799910429938512398629020592044208486969404800479988610197196058631666872994808558901323829669944590997424504087073759918823627727188732519779505950995276120874975462497043601418278094646496291056393887437886487337119181045825783647849977012476632889835955735432513185323958463075557409114262417474349347553428646576611667797396668820291207379143853719588249808126867838374559731746136085379534524221586593201928090878297308431392844403281231558611036976801357304216168747609675871348312025478589320767169132448426236131412508780208000261683151027341827977704784635868170164365024153691398281264810213092761244896359928705114964975419909342221566832572080821333186116811553615836546984046708975602900950537616475847728421889679646244945160765353408198901385442487984959953319101723355556602139450399736280750137837615307127761926849034352625200015888535147331611702103968175921510907788019393178114194545257223865541461062892187960223838971476088506276862967146674697562911234082439208160153780889893964518263243671616762179168909779911903754031274622289988005195444414282012187361745992642956581746628302955570299024324153181617210465832036786906117260158783520751516284225540265170483304226143974286933061690897968482590125458327168226458066526769958652682272807075781391858178889652208164348344825993266043367660176999612831860788386150279465955131156552036093988180612138558600301435694527224206344631797460594682573103790084024432438465657245014402821885252470935190620929023136493273497565513958720559654228749774011413346962715422845862377387538230483865688976461927383814900140767310446640259899490222221765904339901886018566526485061799702356193897017860040811889729918311021171229845901641921068884387121855646124960798722908519296819372388642614839657382291123125024186649353143970137428531926649875337218940694281434118520158014123344828015051399694290153483077644569099073152433278288269864602789864321139083506217095002597389863554277196742822248757586765752344220207573630569498825087968928162753848863396909959826280956121450994871701244516461260379029309120889086942028510640182154399457156805941872748998094254742173582401063677404595741785160829230135358081840096996372524230560855903700624271243416909004153690105933983835777939410970027753472000000000000000000000000000000000000000000000000000000000000000000000000000000000000000000000000000000000000000000000000000000000000000000000000000000000000000000000000000000000000000000000000000000000000000000000000000000000000000000000000000000000\n"
          ]
        }
      ]
    },
    {
      "cell_type": "markdown",
      "source": [
        "**Q4)->** Why LookupError class is used? Explain with an example KeyError and IndexError."
      ],
      "metadata": {
        "id": "kmgA8_D7UGc1"
      }
    },
    {
      "cell_type": "markdown",
      "source": [
        "**Solution :**\n",
        "\n",
        "**LookupError :** tis is the base class of all erroe that are occur when lookup or indexing operation fails. \n",
        "\n",
        "The two subclass of the lookup error are \n",
        "\n",
        "1. KeyError\n",
        "2. IndexError"
      ],
      "metadata": {
        "id": "J0Fpul9-Yxpe"
      }
    },
    {
      "cell_type": "markdown",
      "source": [
        "**1. KeyError:** This error raise when a dictionary key is not found during a lookup operation. It occurs when you try to access a dictionary element using a key that doesnt exist in the dictionary.\n",
        "\n",
        "**Example**"
      ],
      "metadata": {
        "id": "E703roAmhp4v"
      }
    },
    {
      "cell_type": "code",
      "source": [
        "def get_dict_value(dictionary, key):\n",
        "    try:\n",
        "        value = dictionary[key]\n",
        "        print(\"Value: \", value)\n",
        "    except KeyError as e:\n",
        "        print(\"Error:\", e)\n",
        "\n",
        "my_dict = {\"name\":\"satya\", \"age\":25}\n",
        "get_dict_value(my_dict,\"name\")\n",
        "get_dict_value(my_dict,\"address\")"
      ],
      "metadata": {
        "colab": {
          "base_uri": "https://localhost:8080/"
        },
        "id": "MEeGBZcWTy57",
        "outputId": "ea623748-409f-453a-ba58-3220a013560c"
      },
      "execution_count": null,
      "outputs": [
        {
          "output_type": "stream",
          "name": "stdout",
          "text": [
            "Value:  satya\n",
            "Error: 'address'\n"
          ]
        }
      ]
    },
    {
      "cell_type": "markdown",
      "source": [
        "**2. IndexError:** This error raised when a sequence is accessed with an invalid index or slice. It means the error occue when you try to access the element which lies outside teh range of the index for the sequence.\n",
        "\n",
        "**Example**"
      ],
      "metadata": {
        "id": "mzWeoopOiv2l"
      }
    },
    {
      "cell_type": "code",
      "source": [
        "def get_list_element(lst, index):\n",
        "    try:\n",
        "        element = lst[index]\n",
        "        print(\"The element are : \", element)\n",
        "    except IndexError as e:\n",
        "        print(\"Error is : \", e)\n",
        "\n",
        "my_list = [1,2,3,4,5]\n",
        "get_list_element(my_list, 2)\n",
        "get_list_element(my_list, 10)"
      ],
      "metadata": {
        "colab": {
          "base_uri": "https://localhost:8080/"
        },
        "id": "FSd-uJuwiuIy",
        "outputId": "2597e802-2da6-4dc9-a0cc-1f6094679efb"
      },
      "execution_count": null,
      "outputs": [
        {
          "output_type": "stream",
          "name": "stdout",
          "text": [
            "The element are :  3\n",
            "Error is :  list index out of range\n"
          ]
        }
      ]
    },
    {
      "cell_type": "markdown",
      "source": [
        "**Q5)->** Explain ImportError. What is ModuleNotFoundError?"
      ],
      "metadata": {
        "id": "pZI72igokA8E"
      }
    },
    {
      "cell_type": "markdown",
      "source": [
        "**Solution:**\n",
        "\n",
        "**ImportError:** It is a built-in Exceptipon in python that ia raised when as import statement fails to import a module. It indicates that there was an issue in locating, loading the desired module.\n",
        "\n",
        "**Condition when ImportError can takes place**\n",
        "\n",
        "1. Module or package doesn't exist.\n",
        "2. Dependency cycle exit between module\n",
        "3. Syntax error or any issue with module code.\n",
        "\n",
        "**Example**\n",
        "\n"
      ],
      "metadata": {
        "id": "DXIfejPRgl7b"
      }
    },
    {
      "cell_type": "code",
      "source": [
        "try:\n",
        "    import non_existing_module\n",
        "except ImportError as e:\n",
        "    print(\"Error is:\", e)"
      ],
      "metadata": {
        "id": "8evSqm3cj48a",
        "colab": {
          "base_uri": "https://localhost:8080/"
        },
        "outputId": "8f7e5b6c-ba9d-47da-db0f-63aea09a2448"
      },
      "execution_count": 2,
      "outputs": [
        {
          "output_type": "stream",
          "name": "stdout",
          "text": [
            "Error is: No module named 'non_existing_module'\n"
          ]
        }
      ]
    },
    {
      "cell_type": "markdown",
      "source": [
        "**ModuleNotFoundError:** It is the subclass of **ImportError** it specifically represent the case when a module cannnot be found or imported.\n",
        "\n",
        "**Example**\n",
        "\n"
      ],
      "metadata": {
        "id": "6dGH7KDfh1LZ"
      }
    },
    {
      "cell_type": "code",
      "source": [
        "try:\n",
        "    import non_existing_module\n",
        "except ModuleNotFoundError as e:\n",
        "    print(\"Error is :\", e)"
      ],
      "metadata": {
        "colab": {
          "base_uri": "https://localhost:8080/"
        },
        "id": "iXtSCBwwhoj8",
        "outputId": "ab1855a9-b9dd-4a92-d2d7-7604bd41ba04"
      },
      "execution_count": 3,
      "outputs": [
        {
          "output_type": "stream",
          "name": "stdout",
          "text": [
            "Error is : No module named 'non_existing_module'\n"
          ]
        }
      ]
    },
    {
      "cell_type": "markdown",
      "source": [
        "**Q6)->**List down some best practices for exception handling in python."
      ],
      "metadata": {
        "id": "A14I5bKkw-WJ"
      }
    },
    {
      "cell_type": "markdown",
      "source": [
        "**Solution:**\n",
        "\n",
        "Best practice are as follows:\n",
        "1. Use try, except, finallt blocks\n",
        "2. Catching speecific exception\n",
        "3. Raising Custom Exception\n",
        "4. Logging and Error Reporting\n",
        "5. Unit Testing Exception Handling"
      ],
      "metadata": {
        "id": "BGtM_t61xEGG"
      }
    },
    {
      "cell_type": "code",
      "source": [],
      "metadata": {
        "id": "fLEL3U12wTyP"
      },
      "execution_count": null,
      "outputs": []
    }
  ]
}