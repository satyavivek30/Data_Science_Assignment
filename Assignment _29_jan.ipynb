{
 "cells": [
  {
   "cell_type": "markdown",
   "id": "2135ddb8",
   "metadata": {},
   "source": [
    "#  Assignment  [29-jan-2023]  Solution"
   ]
  },
  {
   "cell_type": "markdown",
   "id": "d8676596",
   "metadata": {},
   "source": [
    "###  Solution-1"
   ]
  },
  {
   "cell_type": "markdown",
   "id": "6964d89c",
   "metadata": {},
   "source": [
    "Python language developed buy Guido van Rossum in 1991."
   ]
  },
  {
   "cell_type": "markdown",
   "id": "661e35cd",
   "metadata": {},
   "source": [
    "###  Solution 2"
   ]
  },
  {
   "cell_type": "markdown",
   "id": "130442c5",
   "metadata": {},
   "source": [
    "High level interpreted programming language"
   ]
  },
  {
   "cell_type": "markdown",
   "id": "07e79263",
   "metadata": {},
   "source": [
    "###  Solution 3"
   ]
  },
  {
   "cell_type": "markdown",
   "id": "5cb9762a",
   "metadata": {},
   "source": [
    "Yes python is case senitive language"
   ]
  },
  {
   "cell_type": "markdown",
   "id": "62cdf71e",
   "metadata": {},
   "source": [
    "###  Solution 4"
   ]
  },
  {
   "cell_type": "markdown",
   "id": "9388e6f4",
   "metadata": {},
   "source": [
    "Correct extension of python file is:\n",
    "python -- > .py [example --> abc.py]"
   ]
  },
  {
   "cell_type": "markdown",
   "id": "a1e1457e",
   "metadata": {},
   "source": [
    "### Solution 5"
   ]
  },
  {
   "cell_type": "markdown",
   "id": "9bacfc2a",
   "metadata": {},
   "source": [
    "Python code is interpreted i.e., high level interpreted language.It is interagted with the compiler."
   ]
  },
  {
   "cell_type": "markdown",
   "id": "dcf58d1f",
   "metadata": {},
   "source": [
    "### Solution 6"
   ]
  },
  {
   "cell_type": "code",
   "execution_count": 5,
   "id": "a29f487f",
   "metadata": {},
   "outputs": [
    {
     "name": "stdout",
     "output_type": "stream",
     "text": [
      "Sum of two integer 10 + 20 =  30\n"
     ]
    }
   ],
   "source": [
    "# print the summation of two number \n",
    "\n",
    "a = 10\n",
    "b = 20\n",
    "\n",
    "addition_of_two_integer = a + b\n",
    "\n",
    "print(f\"Sum of two integer {a} + {b} = \", addition_of_two_integer)"
   ]
  },
  {
   "cell_type": "markdown",
   "id": "ecd70f13",
   "metadata": {},
   "source": [
    "### Solution 7"
   ]
  },
  {
   "cell_type": "markdown",
   "id": "1bb0f65c",
   "metadata": {},
   "source": [
    "For single line comment we use \"#\" hash tag special character for commenting."
   ]
  },
  {
   "cell_type": "markdown",
   "id": "354a54f0",
   "metadata": {},
   "source": [
    "### Solution 8"
   ]
  },
  {
   "cell_type": "markdown",
   "id": "da23ab39",
   "metadata": {},
   "source": [
    "to check the python version during run time we can platform module by importing to call system version."
   ]
  },
  {
   "cell_type": "code",
   "execution_count": 15,
   "id": "5961bb98",
   "metadata": {},
   "outputs": [
    {
     "name": "stdout",
     "output_type": "stream",
     "text": [
      "3.9.16 | packaged by conda-forge | (main, Feb  1 2023, 21:39:03) \n",
      "[GCC 11.3.0]\n"
     ]
    }
   ],
   "source": [
    "import platform;\n",
    "\n",
    "print(platform.sys.version)"
   ]
  },
  {
   "cell_type": "markdown",
   "id": "485370c0",
   "metadata": {},
   "source": [
    "### Solution 9"
   ]
  },
  {
   "cell_type": "markdown",
   "id": "382d2a80",
   "metadata": {},
   "source": [
    "Python supports the creation of anonymous functions at runtime, using a construct called --> lambda function"
   ]
  },
  {
   "cell_type": "markdown",
   "id": "86aae018",
   "metadata": {},
   "source": [
    "### Solution 10"
   ]
  },
  {
   "cell_type": "markdown",
   "id": "92f32f8e",
   "metadata": {},
   "source": [
    "pip stands for --> Pip Installs package"
   ]
  },
  {
   "cell_type": "markdown",
   "id": "88d3ae21",
   "metadata": {},
   "source": [
    "### Solution 11"
   ]
  },
  {
   "cell_type": "markdown",
   "id": "21710603",
   "metadata": {},
   "source": [
    "Some Builtin function are as follow\n",
    "\n",
    "1--> print() <br>\n",
    "2--> sum() <br>\n",
    "3--> max()<br>\n",
    "4--> sort()<br>\n",
    "5--> pow()<br>"
   ]
  },
  {
   "cell_type": "markdown",
   "id": "8250edbe",
   "metadata": {},
   "source": [
    "### Solution 12"
   ]
  },
  {
   "cell_type": "markdown",
   "id": "c14a1c03",
   "metadata": {},
   "source": [
    "The maximum possible length of an identifier is python is  --> 79 character"
   ]
  },
  {
   "cell_type": "markdown",
   "id": "be0e66cf",
   "metadata": {},
   "source": [
    "###  Solution 13"
   ]
  },
  {
   "cell_type": "markdown",
   "id": "cd7cd0ae",
   "metadata": {},
   "source": [
    "The benefir of using python are as follows :: <br>\n",
    "\n",
    "1-> Easy to use and highly friendly. <br>\n",
    "2-> It has very large open source community. <br>\n",
    "3-> The large library are available to use. <br>\n",
    "4-> Portability. <br>\n",
    "5-> Dynamically typed language. <br>"
   ]
  },
  {
   "cell_type": "markdown",
   "id": "a7466064",
   "metadata": {},
   "source": [
    "###  Solution 14"
   ]
  },
  {
   "cell_type": "markdown",
   "id": "f0ff9961",
   "metadata": {},
   "source": [
    "The memory managed by Two ways: <br> \n",
    "1-> Static memory allocation. <br>\n",
    "2-> Dynamic memory allocation <br>"
   ]
  },
  {
   "cell_type": "markdown",
   "id": "d694621d",
   "metadata": {},
   "source": [
    "### Solution 15 "
   ]
  },
  {
   "cell_type": "markdown",
   "id": "ef5eea7b",
   "metadata": {},
   "source": [
    "Download Python and install from Given link :: https://www.python.org/downloads/  <br>\n",
    "\n",
    "To set the environment variable:: <br> \n",
    "windows -> Search environment variable -> select user variable -> paste the path of python bin folder and appy the changes <br."
   ]
  },
  {
   "cell_type": "markdown",
   "id": "10b524c7",
   "metadata": {},
   "source": [
    "### SOlution 16"
   ]
  },
  {
   "cell_type": "markdown",
   "id": "07ee0871",
   "metadata": {},
   "source": [
    "Yes Indenetation is important for the python it help python interpreter tp differentiate the block of code."
   ]
  },
  {
   "cell_type": "code",
   "execution_count": null,
   "id": "3f7f1299",
   "metadata": {},
   "outputs": [],
   "source": []
  }
 ],
 "metadata": {
  "kernelspec": {
   "display_name": "Python 3 (ipykernel)",
   "language": "python",
   "name": "python3"
  },
  "language_info": {
   "codemirror_mode": {
    "name": "ipython",
    "version": 3
   },
   "file_extension": ".py",
   "mimetype": "text/x-python",
   "name": "python",
   "nbconvert_exporter": "python",
   "pygments_lexer": "ipython3",
   "version": "3.9.16"
  }
 },
 "nbformat": 4,
 "nbformat_minor": 5
}
