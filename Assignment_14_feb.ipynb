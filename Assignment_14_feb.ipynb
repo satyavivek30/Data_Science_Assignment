{
  "nbformat": 4,
  "nbformat_minor": 0,
  "metadata": {
    "colab": {
      "provenance": []
    },
    "kernelspec": {
      "name": "python3",
      "display_name": "Python 3"
    },
    "language_info": {
      "name": "python"
    }
  },
  "cells": [
    {
      "cell_type": "markdown",
      "source": [
        "##Assignment 14 Feb 2023"
      ],
      "metadata": {
        "id": "QTAKODpJ7ZLI"
      }
    },
    {
      "cell_type": "markdown",
      "source": [
        "**Q1)->** What is multithreading in python? Why is it used? Name the module used to handle threads in python?"
      ],
      "metadata": {
        "id": "mKZK--bg30UF"
      }
    },
    {
      "cell_type": "markdown",
      "source": [
        "**Solution:** \n",
        "\n",
        "**Multithreading-->** The concurrent execution of multiple thread within a single program is termed as threading.\n",
        "\n",
        "A therad is a light weight unit of execution that can run concurrently wirh other thread sharing the same memory space.Each thread represent the an independent flow of control allowing multiple task to be performed.\n",
        "\n",
        "Multithreading is used in python to achieve parrallelism and increase the efficiency of programs that involve task that can run independently. It allow for improved utilization of system resource that can lead faster execution time.\n",
        "\n",
        "**Module used for Multithreading in python** is \"Threading\" module used to handle the thread.\n",
        "\n",
        "**Example**"
      ],
      "metadata": {
        "id": "Pkukxg9d35tP"
      }
    },
    {
      "cell_type": "code",
      "execution_count": null,
      "metadata": {
        "colab": {
          "base_uri": "https://localhost:8080/"
        },
        "id": "fjctiSow3wJ7",
        "outputId": "c8c1ba13-38d7-4b3b-c5f7-41df80ae0da3"
      },
      "outputs": [
        {
          "output_type": "stream",
          "name": "stdout",
          "text": [
            "Task 1 executed\n",
            "Task 2 is executed\n"
          ]
        }
      ],
      "source": [
        "import threading\n",
        "\n",
        "def task1():\n",
        "    print(\"Task 1 executed\")\n",
        "\n",
        "def task2():\n",
        "    print(\"Task 2 is executed\")\n",
        "\n",
        "thread1 = threading.Thread(target = task1)\n",
        "thread2 = threading.Thread(target = task2)\n",
        "\n",
        "thread1.start()\n",
        "thread2.start()"
      ]
    },
    {
      "cell_type": "markdown",
      "source": [
        "**Q2)->**Why threading module is used ? Write the use if the following function?\n",
        "\n",
        "1. activeCount()\n",
        "2. currentThread()\n",
        "3. enumerate()\n"
      ],
      "metadata": {
        "id": "9HWBYhMb9O-T"
      }
    },
    {
      "cell_type": "markdown",
      "source": [
        "**Solution:** Threading Module is used for several reason which are as follows: \n",
        "\n",
        "1. Concurrency\n",
        "2. Parallism\n",
        "3. Asynchronous Programming\n",
        "4. Responsiveness\n",
        "5. Resource sharing\n",
        "6. Efficiency"
      ],
      "metadata": {
        "id": "SVLheptAPHj9"
      }
    },
    {
      "cell_type": "markdown",
      "source": [
        "**1. activeCount():** This function return the number of thread object currently alive.\n"
      ],
      "metadata": {
        "id": "eEX_vCIVQcFm"
      }
    },
    {
      "cell_type": "code",
      "source": [
        "import time\n",
        "import threading\n",
        "\n",
        "def thread1(i):\n",
        "    time.sleep(3)\n",
        "    print('No. printed by Thread 1: %d' %i)\n",
        "\n",
        "def thread2(i):\n",
        "    time.sleep(3)\n",
        "    print('No. printed by Thread 2: %d' %i)\n",
        "\n",
        "if __name__ == '__main__':\n",
        "    t1 = threading.Thread(target=thread1, args=(10,))\n",
        "    t2 = threading.Thread(target=thread2, args=(12,))\n",
        "    t1.start()\n",
        "    t2.start()\n",
        "    print(\"No. of active threads: \", + threading.active_count())\n",
        "    # t1.join()\n",
        "    # t2.join()"
      ],
      "metadata": {
        "id": "acBobRSa7M97",
        "colab": {
          "base_uri": "https://localhost:8080/"
        },
        "outputId": "d64dbf4f-b3c2-4290-a15b-605f35d276c5"
      },
      "execution_count": 6,
      "outputs": [
        {
          "output_type": "stream",
          "name": "stdout",
          "text": [
            "No. of active threads:  7\n"
          ]
        },
        {
          "output_type": "stream",
          "name": "stderr",
          "text": [
            "<ipython-input-6-776f4b942c84>:17: DeprecationWarning: activeCount() is deprecated, use active_count() instead\n",
            "  print(\"No. of active threads: \", + threading.activeCount())\n"
          ]
        },
        {
          "output_type": "stream",
          "name": "stdout",
          "text": [
            "No. printed by Thread 1: 10\n",
            "No. printed by Thread 2: 12\n"
          ]
        }
      ]
    },
    {
      "cell_type": "markdown",
      "source": [
        "**2. current_thread():** This function will return the current Thread object, corresponding to the caller's thread of control  If the caller's thread of control was not created through the threading module , then a dummy thread object with limited functionality is returned."
      ],
      "metadata": {
        "id": "jGwhbY6nRWyZ"
      }
    },
    {
      "cell_type": "code",
      "source": [
        "import time\n",
        "import threading\n",
        "\n",
        "def thread1(i):\n",
        "    time.sleep(3)\n",
        "    #print('No. printed by Thread 1: %d' %i)\n",
        "\n",
        "def thread2(i):\n",
        "    time.sleep(3)\n",
        "    # print('No. printed by Thread 2: %d' %i)\n",
        "\n",
        "if __name__ == '__main__':\n",
        "    t1 = threading.Thread(target=thread1, args=(10,))\n",
        "    t2 = threading.Thread(target=thread2, args=(12,))\n",
        "    t1.start()\n",
        "    t2.start()\n",
        "    print(\"Current thread is: \",threading.current_thread())\n",
        "    t1.join()\n",
        "    t2.join()"
      ],
      "metadata": {
        "colab": {
          "base_uri": "https://localhost:8080/"
        },
        "id": "Aj9NIT00Q5hU",
        "outputId": "abf8d34a-349e-4ea3-fa92-9595f2253a92"
      },
      "execution_count": 10,
      "outputs": [
        {
          "output_type": "stream",
          "name": "stdout",
          "text": [
            "Current thread is:  <_MainThread(MainThread, started 140252615620416)>\n"
          ]
        }
      ]
    },
    {
      "cell_type": "markdown",
      "source": [
        "**3. enumerate():** This method returns a list of all Thread objects currently alive.\n",
        "Terminated threads and threads that have not yet been started are not present in this list.\n"
      ],
      "metadata": {
        "id": "SwJoL7BOSV6i"
      }
    },
    {
      "cell_type": "code",
      "source": [
        "threading.enumerate()"
      ],
      "metadata": {
        "colab": {
          "base_uri": "https://localhost:8080/"
        },
        "id": "Rs0ioXr1R-8F",
        "outputId": "4249db89-cf98-4336-fb43-97629feeba09"
      },
      "execution_count": 11,
      "outputs": [
        {
          "output_type": "execute_result",
          "data": {
            "text/plain": [
              "[<_MainThread(MainThread, started 140252615620416)>,\n",
              " <Thread(Thread-2 (_thread_main), started daemon 140252461455104)>,\n",
              " <Heartbeat(Thread-3, started daemon 140252453062400)>,\n",
              " <ParentPollerUnix(Thread-1, started daemon 140252204726016)>,\n",
              " <Thread(_colab_inspector_thread, started daemon 140251871827712)>]"
            ]
          },
          "metadata": {},
          "execution_count": 11
        }
      ]
    },
    {
      "cell_type": "markdown",
      "source": [
        "**Q3)->** Explain the following functions\n",
        "\n",
        "1. run()\n",
        "2. start()\n",
        "3. join()\n",
        "4. isAlive()"
      ],
      "metadata": {
        "id": "Y98GJNThS1md"
      }
    },
    {
      "cell_type": "markdown",
      "source": [
        "**Solution:**\n",
        "\n",
        "**1. run():** The run() method is used to define the behavior of a thread. It is a method that you can override in a custom thread class to specify what action the thread shoulf perform when it started."
      ],
      "metadata": {
        "id": "XvISryA5T9_r"
      }
    },
    {
      "cell_type": "code",
      "source": [
        "import threading\n",
        "\n",
        "class MyThread(threading.Thread):\n",
        "    def run(self):\n",
        "        print(\"Thread execution started\")\n",
        "        print(\"Thread execution completed\")\n",
        "\n",
        "my_thread = MyThread()\n",
        "\n",
        "my_thread.start()\n"
      ],
      "metadata": {
        "colab": {
          "base_uri": "https://localhost:8080/"
        },
        "id": "9b3pE9xqW2FK",
        "outputId": "29503e63-8119-4d8b-dffb-3b4ae98f04b1"
      },
      "execution_count": 13,
      "outputs": [
        {
          "output_type": "stream",
          "name": "stdout",
          "text": [
            "Thread execution started\n",
            "Thread execution completed\n"
          ]
        }
      ]
    },
    {
      "cell_type": "markdown",
      "source": [
        "**2. start():** The start method is used in threading module to initiate the execution of thread. It is called as the object to start the thread."
      ],
      "metadata": {
        "id": "_tT6S0x-WZAk"
      }
    },
    {
      "cell_type": "code",
      "source": [
        "import threading\n",
        "\n",
        "def my_function():\n",
        "    print(\"Thread execution started\")\n",
        "    print(\"Thread execution completed\")\n",
        "\n",
        "my_thread = threading.Thread(target=my_function)\n",
        "\n",
        "my_thread.start()\n"
      ],
      "metadata": {
        "colab": {
          "base_uri": "https://localhost:8080/"
        },
        "id": "7Undtlf_Su_j",
        "outputId": "95686618-43cf-4f8f-f417-bc6ae2179ba9"
      },
      "execution_count": 14,
      "outputs": [
        {
          "output_type": "stream",
          "name": "stdout",
          "text": [
            "Thread execution started\n",
            "Thread execution completed\n"
          ]
        }
      ]
    },
    {
      "cell_type": "markdown",
      "source": [
        "**3. join():** In threading the join() meth\\od is used to wait for thread to complete its execution. It allow the program to pause and block untill the thread finishes its execution.\n",
        "\n",
        "This is usefull when you want to ensure that certain operation in the programm occur only after the thread finished its task."
      ],
      "metadata": {
        "id": "sA53GNz0pry7"
      }
    },
    {
      "cell_type": "code",
      "source": [
        "import threading\n",
        "\n",
        "def my_function():\n",
        "    print(\"Thread execution started\")\n",
        "    print(\"Thread execution completed\")\n",
        "\n",
        "my_thread = threading.Thread(target=my_function)\n",
        "\n",
        "my_thread.start()\n",
        "\n",
        "my_thread.join()\n",
        "\n",
        "print(\"Thread has finished its execution\")\n"
      ],
      "metadata": {
        "colab": {
          "base_uri": "https://localhost:8080/"
        },
        "id": "DtXxyAalpMkp",
        "outputId": "ccab7f10-8cdd-47ab-c655-83e6bcd1d492"
      },
      "execution_count": 15,
      "outputs": [
        {
          "output_type": "stream",
          "name": "stdout",
          "text": [
            "Thread execution started\n",
            "Thread execution completed\n",
            "Thread has finished its execution\n"
          ]
        }
      ]
    },
    {
      "cell_type": "markdown",
      "source": [
        "**4. isAlive():** This mehod is used in the threading module of python to determine whether a thread is currently active and running. It return a boolean value indicates that thread's execution status."
      ],
      "metadata": {
        "id": "ai__kIlXqu_f"
      }
    },
    {
      "cell_type": "code",
      "source": [
        "import threading\n",
        "import time\n",
        "\n",
        "def my_function():\n",
        "    print(\"Thread execution started\")\n",
        "    time.sleep(2)\n",
        "    print(\"Thread execution completed\")\n",
        "\n",
        "my_thread = threading.Thread(target=my_function)\n",
        "\n",
        "my_thread.start()\n",
        "\n",
        "if my_thread.is_alive():\n",
        "    print(\"Thread is still running\")\n",
        "else:\n",
        "    print(\"Thread has completed its execution\")\n"
      ],
      "metadata": {
        "colab": {
          "base_uri": "https://localhost:8080/"
        },
        "id": "RKhHhLmdqiPp",
        "outputId": "3b96ea09-6217-4b86-b3b3-0e2f5fbdb03f"
      },
      "execution_count": 17,
      "outputs": [
        {
          "output_type": "stream",
          "name": "stdout",
          "text": [
            "Thread execution startedThread is still running\n",
            "\n"
          ]
        }
      ]
    },
    {
      "cell_type": "markdown",
      "source": [
        "**Q4)->** Write a python program to create two threads. Thread one must print the list of squares and thread two must print the list of cubes?"
      ],
      "metadata": {
        "id": "tVmWQM0u7c5l"
      }
    },
    {
      "cell_type": "code",
      "source": [
        "# Solution \n",
        "\n",
        "import threading\n",
        "\n",
        "def square():\n",
        "    for i in range (10):\n",
        "        print(\"Sqaure element is : \", i**2)\n",
        "\n",
        "def cube():\n",
        "    for i in range(10):\n",
        "        print(\"Cube element are  : \",i**3 )\n",
        "\n",
        "\n",
        "thread1 = threading.Thread(target = square)\n",
        "thread2 = threading.Thread(target = cube)\n",
        "\n",
        "thread1.start()\n",
        "thread2.start()\n",
        "\n",
        "\n",
        "thread1.join()\n",
        "\n",
        "\n",
        "thread2.join()\n",
        "\n",
        "print(\"Program completed\")"
      ],
      "metadata": {
        "colab": {
          "base_uri": "https://localhost:8080/"
        },
        "id": "_ayYugu8rPnq",
        "outputId": "25591243-1b35-4f4e-af4c-49e0c2d486d6"
      },
      "execution_count": 23,
      "outputs": [
        {
          "output_type": "stream",
          "name": "stdout",
          "text": [
            "Sqaure element is :  0\n",
            "Sqaure element is :  1\n",
            "Sqaure element is :  4\n",
            "Sqaure element is :  9\n",
            "Sqaure element is :  16\n",
            "Sqaure element is :  25\n",
            "Sqaure element is :  36\n",
            "Sqaure element is :  49\n",
            "Sqaure element is :  64\n",
            "Sqaure element is :  81\n",
            "Cube element are  :  0\n",
            "Cube element are  :  1\n",
            "Cube element are  :  8\n",
            "Cube element are  :  27\n",
            "Cube element are  :  64\n",
            "Cube element are  :  125\n",
            "Cube element are  :  216\n",
            "Cube element are  :  343\n",
            "Cube element are  :  512\n",
            "Cube element are  :  729\n",
            "Program completed\n"
          ]
        }
      ]
    },
    {
      "cell_type": "markdown",
      "source": [
        "**Q5)->** State advantages and disadvantages of multithreading?\n"
      ],
      "metadata": {
        "id": "A7iF5Ba7BPn3"
      }
    },
    {
      "cell_type": "markdown",
      "source": [
        "**Solution:** \n",
        "\n",
        "**Advantage**\n",
        "1. Enhanced performance by decreased development time\n",
        "2. Simplified and streamlined program coding\n",
        "3. Simultaneous and parallelized occurrence of tasks\n",
        "4. Better use of cache storage by utilization of resources\n",
        "5. Decreased cost of maintenance\n",
        "\n",
        "\n",
        "**Disadvantage**\n",
        "1. Complex debugging and testing processes\n",
        "2. Overhead switching of context\n",
        "3. Increased potential for deadlock occurrence\n",
        "4. Increased difficulty level in writing a program\n",
        "5. Unpredictable results\n"
      ],
      "metadata": {
        "id": "kWipNi9sBYUk"
      }
    },
    {
      "cell_type": "markdown",
      "source": [
        "**Q6)->** Explain deadlocks and race conditions?"
      ],
      "metadata": {
        "id": "kwJe_GCiCC54"
      }
    },
    {
      "cell_type": "markdown",
      "source": [
        "**Solution:**\n",
        "\n",
        "**Deadlocks:** A deadlock occurs when two or more threads are held up indefinitely while they wait for one another to release resources they are holding. Deadlock occurs when no thread can move forward, causing the programme to freeze or hang. Deadlocks usually result from inefficient resource allocation and synchronisation.\n",
        "\n",
        "**Race Condition:** When a program's behaviour depends on the relative execution order of several concurrent threads, and that order is neither controlled or guaranteed, a race condition develops. In other words, it refers to a condition where a program's output is erratic and based on the interleaving and timing of thread execution.\n"
      ],
      "metadata": {
        "id": "YfLlp8NQDQVN"
      }
    },
    {
      "cell_type": "code",
      "source": [],
      "metadata": {
        "id": "_fF2x-GTAdiR"
      },
      "execution_count": null,
      "outputs": []
    }
  ]
}