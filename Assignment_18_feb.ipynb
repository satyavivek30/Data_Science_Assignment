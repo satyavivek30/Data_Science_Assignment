{
  "nbformat": 4,
  "nbformat_minor": 0,
  "metadata": {
    "colab": {
      "provenance": []
    },
    "kernelspec": {
      "name": "python3",
      "display_name": "Python 3"
    },
    "language_info": {
      "name": "python"
    }
  },
  "cells": [
    {
      "cell_type": "markdown",
      "source": [
        "##Assignment 18 feb 2023"
      ],
      "metadata": {
        "id": "3zG0_Hg5pFKX"
      }
    },
    {
      "cell_type": "markdown",
      "source": [
        "**Q1):** What is an API? Give an example, where an API is used in real life.?"
      ],
      "metadata": {
        "id": "4bPNEC5FpKd9"
      }
    },
    {
      "cell_type": "markdown",
      "source": [
        "**Solution:** **API** stands for Application Programming Interface. It is a set of instriuction that allow different software application to communicate and interact with each other. \n",
        "\n",
        "API defines the method that developer can use to access certain functionalities or data of a system.\n",
        "\n",
        "**Example:**\n",
        "The real life example is Google Map.\n",
        "It provide a set of API that allow developer to integrate the mapping and loaction based services into thier own application.\n",
        "\n"
      ],
      "metadata": {
        "id": "TuxhWZf0pOl-"
      }
    },
    {
      "cell_type": "markdown",
      "source": [
        "**Q2):** Give advantages and disadvantages of using API.?"
      ],
      "metadata": {
        "id": "tHLZIbOhqsUV"
      }
    },
    {
      "cell_type": "markdown",
      "source": [
        "**Solution:**\n",
        "\n",
        "Advantage and Disadvantages of using API are as follows:\n",
        "\n",
        "**Advantages:** \n",
        "\n",
        "1. **Increase Interoperability:** API solution enabled different software systems to communicate with each other regardless of programming language or platform.\n",
        "2.**Improved Efficiency:** It enable developers to reuse code and functionality from existing software systems, saving time and reducing the amount of code.\n",
        "\n",
        "3. **Increased Flexibility:** APIs provide developers with greater flexibility, enabling them to choose the best programming languages and frameworks for their needs.\n",
        "\n",
        "**Disadvantage:**\n",
        "1. **Security Concerns:**API infrastructures can be vulnerable to security breaches, such as SQL injection attacks and cross-site scripting (XSS) attacks, making it crucial to implement security measures to protect against these threats.\n",
        "2.**Complexity:**APIs can be complex, requiring a significant amount of development effort to implement and maintain.\n",
        "3. **Dependency on Third-Party Developers:**APIs rely on third-party developers to create applications that integrate with the software system.\n"
      ],
      "metadata": {
        "id": "xtL-qzanqyjc"
      }
    },
    {
      "cell_type": "markdown",
      "source": [
        "**Q3):** What is a Web API? Differentiate between API and Web API.?"
      ],
      "metadata": {
        "id": "koSoinFAHqSG"
      }
    },
    {
      "cell_type": "markdown",
      "source": [
        "**Solution:** \n",
        "\n",
        "**Web API:** A web API also known as web service or HTTP API, it is specifically designed to be accessed over te web using the Hyper Text Transfer Protocol. It allow application tocommunicate and exchange the data with each other via standard protocol. \n",
        "\n",
        "Difference between API and Web API\n",
        "\n",
        "**1.Scope:**\n",
        "\n",
        "**API ->** It  refers to any set of rules and protocols that allow software \n",
        "applications to communicate and interact with each other.\n",
        "\n",
        "**Web API ->**Web API specifically refers to an API that is accessed over the web using HTTP.\n",
        "\n",
        "**2. Communication protocol:**\n",
        "\n",
        "**API ->** API can use different communication protocol such as HTTP, TCP, SOAP, REST etc.\n",
        "\n",
        "**Web API->** While it uses HTTP as communication protocol.\n",
        "\n",
        "**3. Web-based access:**\n",
        "\n",
        "**API ->** APIs can be accessed through various means, including local function calls.\n",
        "\n",
        "**Web API ->** Web APIs are accessed over the internet using URLs and standard web protocols. \n",
        "\n"
      ],
      "metadata": {
        "id": "5w-RC7HuHuif"
      }
    },
    {
      "cell_type": "markdown",
      "source": [
        "**Q4):** Explain REST and SOAP Architecture. Mention shortcomings of SOAP.?"
      ],
      "metadata": {
        "id": "bIURvshoTAOU"
      }
    },
    {
      "cell_type": "markdown",
      "source": [
        "**Solution:** \n",
        "\n",
        "REST stands for **Representational State Transfer**\n",
        "\n",
        "SOAP stands for **Simple Object Access Protocol**\n",
        "\n",
        "**REST Architecture:** In REST architectural style it defines the set of rules or constraints and principle for desigining networked application.\\\n",
        "It emphasis a stateless and client-server communictaion model where resource identified as URL**(Uniform Resource locator)**.\n",
        "\n",
        "**SOAP Architecture:**SOAP is a protocol that defines a messaging framework for web services. It uses XML to structure and format message exchanged between client and server. SOAP provide a more formal and structured approach compared too REST.\\\n",
        "**Shortcomings of SOAP**\n",
        "1. **Complexity** SOAP message can be complexx and have large overload due to the XML structure and additional headers.\n",
        "2.**Uses More bandwidth** It is generally slower as comapred to REST and it also use more bandwidth given its very complex nature.\n",
        "3. **No variety of data formats** SOAP is extremly limited in its support data format by REST include HTML, JSON, YAML, XML.It only support XML only.\n"
      ],
      "metadata": {
        "id": "p-3mVNU4TEIg"
      }
    },
    {
      "cell_type": "markdown",
      "source": [
        "**Q5):** Differentiate between REST and SOAP.?"
      ],
      "metadata": {
        "id": "W10MNZYDjCDG"
      }
    },
    {
      "cell_type": "markdown",
      "source": [
        "**Solution:** \n",
        "\n",
        "**Differentiate between REST and SOAP**\n",
        "1. SOAP stands for Simple Object Access Protocol whereas REST stands for Representational State Transfer.\n",
        "2. SOAP is a protocol whereas REST is an architectural pattern.\n",
        "3. SOAP uses service interfaces to expose its functionality to client applications while REST uses Uniform Service locators to access to the components on the hardware device.\n",
        "4. SOAP needs more bandwidth for its usage whereas REST doesn’t need much bandwidth.\n",
        "5. Comparing SOAP vs REST API, SOAP only works with XML formats whereas REST work with plain text, XML, HTML and JSON.\n",
        "6. SOAP cannot make use of REST whereas REST can make use of SOAP.\n"
      ],
      "metadata": {
        "id": "py2JTc8ejO3-"
      }
    },
    {
      "cell_type": "code",
      "execution_count": null,
      "metadata": {
        "id": "p1vAh_yhmyqo"
      },
      "outputs": [],
      "source": []
    }
  ]
}