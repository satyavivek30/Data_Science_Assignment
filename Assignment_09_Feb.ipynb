{
  "nbformat": 4,
  "nbformat_minor": 0,
  "metadata": {
    "colab": {
      "provenance": []
    },
    "kernelspec": {
      "name": "python3",
      "display_name": "Python 3"
    },
    "language_info": {
      "name": "python"
    }
  },
  "cells": [
    {
      "cell_type": "markdown",
      "source": [
        "**Q1 )->** Create a vehicle class with an init method having instance variables as name_of_vehicle, max_speed\n",
        "and average_of_vehicle.\n",
        "\n",
        "**Q2) ->** Create a child class car from the vehicle class created in Que 1, which will inherit the vehicle class.\n",
        "Create a method named seating_capacity which takes capacity as an argument and returns the name of\n",
        "the vehicle and its seating capacity."
      ],
      "metadata": {
        "id": "40L_pfr4QcSD"
      }
    },
    {
      "cell_type": "code",
      "execution_count": 9,
      "metadata": {
        "colab": {
          "base_uri": "https://localhost:8080/"
        },
        "id": "4rHwnrnjQSNI",
        "outputId": "4108b586-6328-4006-9c34-561df3ca66d8"
      },
      "outputs": [
        {
          "output_type": "stream",
          "name": "stdout",
          "text": [
            "The Information of vehicle using parent class is : \n",
            "BMW 40 145\n",
            "The Information of vehicle using child class is : \n",
            "MAarcedes\n",
            "40.5\n",
            "100\n",
            "The seacting capacity of the MAarcedes car is, 6\n"
          ]
        }
      ],
      "source": [
        "class Vehicle:\n",
        "\n",
        "  def __init__(self, name_of_vehicle,max_speed, average_of_vehicle):\n",
        "    self.name_of_vehicle = name_of_vehicle\n",
        "    self.max_speed = max_speed\n",
        "    self.average_of_vehicle = average_of_vehicle\n",
        "\n",
        "class Car(Vehicle):\n",
        "\n",
        "  def seating_capacity(self, seating_capacity):\n",
        "    return (f\"The seacting capacity of the {self.name_of_vehicle} car is, {seating_capacity}\")\n",
        "\n",
        "v1 = Vehicle(\"BMW\", 145, 40)\n",
        "print(\"The Information of vehicle using parent class is : \")\n",
        "print(v1.name_of_vehicle, v1.average_of_vehicle, v1.max_speed)\n",
        "\n",
        "c1 = Car(\"MAarcedes\", 100, 40.5)\n",
        "print(\"The Information of vehicle using child class is : \")\n",
        "print(c1.name_of_vehicle)\n",
        "print(c1.average_of_vehicle)\n",
        "print(c1.max_speed)\n",
        "print(c1.seating_capacity(6))\n",
        "\n"
      ]
    },
    {
      "cell_type": "markdown",
      "source": [
        "**Q3)->**  What is multiple inheritance? Write a python code to demonstrate multiple inheritance.\n",
        "\n",
        "\n"
      ],
      "metadata": {
        "id": "qFiTtYjBWvWM"
      }
    },
    {
      "cell_type": "markdown",
      "source": [
        "# Multiple inheritance \n",
        "Multiple inheritance is the feature of object oriented programming in which the class can inherit the property and attribute of the parent class.\n",
        "When a class is derived from more than one base class is termed as multiple inheritance.\n",
        "\n",
        "\n",
        "**Example**"
      ],
      "metadata": {
        "id": "ovMsVa5kW_n3"
      }
    },
    {
      "cell_type": "code",
      "source": [
        "class Father:\n",
        "\n",
        "  def singing(self):\n",
        "    print(\"Father Sings well\")\n",
        "\n",
        "class Mother:\n",
        "\n",
        "  def coding(self):\n",
        "    print(\"Mother code well\")\n",
        "\n",
        "class Child(Father, Mother):\n",
        "\n",
        "  def play(self):\n",
        "    print(\"kids loves to play\")\n",
        "\n",
        "c1 = Child()\n",
        "\n",
        "c1.singing()\n",
        "c1.coding()\n",
        "c1.play()"
      ],
      "metadata": {
        "colab": {
          "base_uri": "https://localhost:8080/"
        },
        "id": "rmHEymjQTQdu",
        "outputId": "13372015-df88-4937-f258-646021ed85fa"
      },
      "execution_count": 12,
      "outputs": [
        {
          "output_type": "stream",
          "name": "stdout",
          "text": [
            "Father Sings well\n",
            "Mother code well\n",
            "kids loves to play\n"
          ]
        }
      ]
    },
    {
      "cell_type": "markdown",
      "source": [
        "**Q3) ->** What are getter and setter in python? Create a class and create a getter and a setter method in this\n",
        "class."
      ],
      "metadata": {
        "id": "OpUGWPmmWxdf"
      }
    },
    {
      "cell_type": "markdown",
      "source": [
        "**Solution ->** Getter and setter are a part if OOP's language.\n",
        "\n",
        "**Getter ->** A method that allows you to access an attribute in a given class.\n",
        "\n",
        "**Setter ->** A method that allow you to set or mutate the value of an attribute in a class.\n",
        "\n",
        "It is often used when ->\n",
        "\\\n",
        "**1.** we use getter and setter to add validation logic around getting and setting a value.\n",
        "\n",
        "**2.** To aviod direct access of a class field i.e., private variable cannot directly oor modified by external user."
      ],
      "metadata": {
        "id": "4FyeHYa5W6Yo"
      }
    },
    {
      "cell_type": "code",
      "source": [
        "## Eaxample of getter & setter\n",
        "\n",
        "class Person:\n",
        "\n",
        "  def __init__(self, age = 0):\n",
        "    self.age = age\n",
        "\n",
        "  # getter method\n",
        "  def get_age(self):\n",
        "    return self._age\n",
        "\n",
        "  #setter method\n",
        "  def set_age(self, x):\n",
        "    self._age = x\n",
        "\n",
        "p1 = Person()\n",
        "\n",
        "p1.set_age(12)\n",
        "print(p1.get_age())\n",
        "p1.set_age(40)\n",
        "print(p1.get_age())"
      ],
      "metadata": {
        "colab": {
          "base_uri": "https://localhost:8080/"
        },
        "id": "QQ01ldWWhSgs",
        "outputId": "be1ffdc3-f36c-4489-b9fb-1d8119b3905a"
      },
      "execution_count": 6,
      "outputs": [
        {
          "output_type": "stream",
          "name": "stdout",
          "text": [
            "12\n",
            "40\n"
          ]
        }
      ]
    },
    {
      "cell_type": "markdown",
      "source": [
        "**Q5)->** What is method overriding in python? Write a python code to demonstrate method overriding."
      ],
      "metadata": {
        "id": "lECEk3RWgVYq"
      }
    },
    {
      "cell_type": "markdown",
      "source": [
        "**Solution ->**  Method overriding is feature of object oriented programming where the subclass or child class can provide the program with specifc implementation of the data provided that are already defined in the parent class or superclass "
      ],
      "metadata": {
        "id": "xyaUGCEHgamL"
      }
    },
    {
      "cell_type": "code",
      "source": [
        "from posixpath import pardir\n",
        "## Example on method overriding \n",
        "\n",
        "class Parent():\n",
        "  \n",
        "  def __init__(self):\n",
        "    self.value = \"Inside Parent class\"\n",
        "\n",
        "  def show(self):\n",
        "    print(self.value)\n",
        "\n",
        "class Child(Parent):\n",
        "\n",
        "  def __init__(self):\n",
        "    self.value = \"Inside Child Class\"\n",
        "\n",
        "    def show(self):\n",
        "      print(self.value)\n",
        "\n",
        "obj1 = Parent()\n",
        "obj2 = Child()\n",
        "\n",
        "obj1.show()\n",
        "obj2.show()"
      ],
      "metadata": {
        "colab": {
          "base_uri": "https://localhost:8080/"
        },
        "id": "v8RRmmGLfeEK",
        "outputId": "5138b558-58f8-4b94-c14d-e2cc4ce31e71"
      },
      "execution_count": 8,
      "outputs": [
        {
          "output_type": "stream",
          "name": "stdout",
          "text": [
            "Inside Parent class\n",
            "Inside Child Class\n"
          ]
        }
      ]
    },
    {
      "cell_type": "code",
      "source": [],
      "metadata": {
        "id": "bJnjIXAaiiKx"
      },
      "execution_count": null,
      "outputs": []
    }
  ]
}