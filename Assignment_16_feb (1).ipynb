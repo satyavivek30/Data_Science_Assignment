{
  "nbformat": 4,
  "nbformat_minor": 0,
  "metadata": {
    "colab": {
      "provenance": []
    },
    "kernelspec": {
      "name": "python3",
      "display_name": "Python 3"
    },
    "language_info": {
      "name": "python"
    }
  },
  "cells": [
    {
      "cell_type": "markdown",
      "source": [
        "## Assignment 16 feb 2023"
      ],
      "metadata": {
        "id": "ImJqpIw5nO-A"
      }
    },
    {
      "cell_type": "markdown",
      "source": [
        "**Q1)->**What is a database? Differentiate between SQL and NoSQL databases."
      ],
      "metadata": {
        "id": "jSliUwf7nUO5"
      }
    },
    {
      "cell_type": "markdown",
      "source": [
        "**Solution:**\n",
        "\n",
        "**Database:** A database is an organised collection of data that has been set up and saved to make it easy to manage and manipulate the information. \n",
        "\n",
        "Difference between SQL database and NoSQL database are as follows:\n",
        "\n",
        "**SQL**\n",
        "\n",
        "1. SQL database use a structured data model based on table, where data is organised into row and column.\n",
        "2. It has predefined schema which define te structure of data.\n",
        "3. It adhere to the ACID(Atomicity, Consistency, Isolation, Durability) properties ensuring that database are relieble etc.\n",
        "\n",
        "**NoSQL**\n",
        "\n",
        "1. NoSQL database use various data model as key-value, documents, graph. These data model design to handle unstructured or rapid changing data.\n",
        "2. It is schema-less or flexible schema .\n",
        "3. It uses different query mechanism.\n",
        "4. It follow CAP theorm (consistency, Availability, Partial tolerance)\n"
      ],
      "metadata": {
        "id": "T2AL_vrLnYuo"
      }
    },
    {
      "cell_type": "markdown",
      "source": [
        "**Q2)** What is DDL? Explain why CREATE, DROP, ALTER, and TRUNCATE are used with an example."
      ],
      "metadata": {
        "id": "NPnPXGkJv20d"
      }
    },
    {
      "cell_type": "markdown",
      "source": [
        "**Solution :** DDL stands for **Data Definition Language** which is a subset of the SQL used in defining and managing the structure of database. \n",
        "\n",
        "Common DDL commands are **CREATE, DROP, ALTER, TRUNCATE**."
      ],
      "metadata": {
        "id": "Qg7CzEqbwCg7"
      }
    },
    {
      "cell_type": "markdown",
      "source": [
        "**1. CREATE:** The CREATE statement is used to create new database objects, such as tables, views, indexes, or procedures.\n",
        "\n",
        "```\n",
        "CREATE TABLE Customers (\n",
        "    id INT PRIMARY KEY,\n",
        "    name VARCHAR(50),\n",
        "    email VARCHAR(100),\n",
        "    address VARCHAR(200)\n",
        ");\n",
        "```\n",
        "\n",
        "**2. DROP:**  The DROP statement is used to remove or delete an existing database object from the database.\n",
        "\n",
        "```\n",
        "DROP TABLE Customers;\n",
        "```\n",
        "\n",
        "**3. ALTER:** The ALTER statement is used to modify the structure or definition of an existing database object, such as adding or deleting columns, modifying data types, or renaming objects.\n",
        "\n",
        "\n",
        "```\n",
        "ALTER TABLE Customers\n",
        "ADD COLUMN phone VARCHAR(15);\n",
        "```\n",
        "**4. TRUNCATE:** The TRUNCATE statement is used to delete all the data from a table, effectively resetting the table to its initial state. Unlike the DELETE statement, which removes rows one by one, TRUNCATE is a faster operation as it deallocates the storage space used by the table.\n",
        "\n",
        "\n",
        "```\n",
        "TRUNCATE TABLE Customers;\n",
        "```\n",
        "\n",
        "\n",
        "\n",
        "\n"
      ],
      "metadata": {
        "id": "BpM095IWwnnc"
      }
    },
    {
      "cell_type": "markdown",
      "source": [
        "**Q3)** What is DML? Explain INSERT, UPDATE, and DELETE with an example.?"
      ],
      "metadata": {
        "id": "2Jlw1VBUDElB"
      }
    },
    {
      "cell_type": "markdown",
      "source": [
        "**Solution:**\n",
        "\n",
        "DML is stands for Data Maniplution Language it is a subset of SQL and it is used to manipluate and querying data with in a database.\n",
        "\n",
        "Basic DML commands are **INSERT, UPDATE, DELETE** are as follows:\n"
      ],
      "metadata": {
        "id": "KI0GGE1GDMNo"
      }
    },
    {
      "cell_type": "markdown",
      "source": [
        "**1. INSERT:**The INSERT statement is used to add new rows of data into a table.\n",
        "\n",
        "\n",
        "```\n",
        "INSERT INTO Customers (id, name, email, address)\n",
        "VALUES (1, 'abc', 'abc@gmail.com', 'Delhi');\n",
        "```\n",
        "**2. UPDATE:** The UPDATE statement is used to modify existing data in a table.\n",
        "```\n",
        "UPDATE Customers\n",
        "SET email = 'mail@gmail.com'\n",
        "WHERE id = 1;\n",
        "```\n",
        "**3. DELETE:** The DELETE statement is used to remove specific rows or all rows from a table.\n",
        "```\n",
        "DELETE FROM Customers\n",
        "WHERE id = 1;\n",
        "```\n",
        "\n",
        "\n",
        "\n"
      ],
      "metadata": {
        "id": "My8g5AtQD8CC"
      }
    },
    {
      "cell_type": "markdown",
      "source": [
        "**Q4):** What is DQL? Explain SELECT with an example."
      ],
      "metadata": {
        "id": "5sOPl_pcbVtR"
      }
    },
    {
      "cell_type": "markdown",
      "source": [
        "**Solution:** \n",
        "\n",
        "DQL is stands for Data Query Language which is the subset of SQL which is used to retrive the dataq from databases.\n",
        "\n",
        "The most common used of DQL commands are **SELECT**."
      ],
      "metadata": {
        "id": "VAoUh_7MbcQS"
      }
    },
    {
      "cell_type": "markdown",
      "source": [
        "**SELECT:** It allow you to retrive the specific data from the one or more tables on a specifice condition.\n",
        "\n",
        "\n",
        "```\n",
        "SELECT id, name, department, salary\n",
        "FROM Employees;\n",
        "\n",
        "```\n",
        "\n"
      ],
      "metadata": {
        "id": "F1POPOqLb1-b"
      }
    },
    {
      "cell_type": "markdown",
      "source": [
        "**Q5):** Explain Primary Key and Foreign Key."
      ],
      "metadata": {
        "id": "DNiO6vQgcLxi"
      }
    },
    {
      "cell_type": "markdown",
      "source": [
        "**Solution:**\n",
        "\n",
        "**Primary key:** A primary key is a column in database which are uniquely identifies each row in the table. It serve as a unique identifier for each records and ensure the integrity an uniqueness of the data with in the table.\n",
        "\n",
        "Key Points of Primary key:\n",
        "1. Uniqueness\n",
        "2. Not Null\n",
        "3. Indexing\n",
        "4. Table identification\n",
        "\n",
        "**Foreign Key:** A foreign key is the column in database which established the relation between two different tables.\n",
        "\n",
        "Key points of the foreign key:\n",
        "1. Relationship\n",
        "2. Referential integrity\n",
        "3. Constraints\n",
        "4. Navigation"
      ],
      "metadata": {
        "id": "aAKqPdqYcOp9"
      }
    },
    {
      "cell_type": "markdown",
      "source": [
        "**Q6):** Write a python code to connect MySQL to python. Explain the cursor() and execute() method."
      ],
      "metadata": {
        "id": "AtNdZ8fseDSv"
      }
    },
    {
      "cell_type": "markdown",
      "source": [
        "**Solution:** \n",
        "\n",
        "To connect the MySQL to python are as follows:\n",
        "\n",
        "**Install MySQL Connector in Python**\n",
        "\n",
        "``` \n",
        "pip install mysql-connector-python\n",
        "```\n",
        "\n",
        "**Example of MySQL Connector**\n",
        "```\n",
        "import mysql.connector\n",
        "\n",
        "#Establishing Connection\n",
        "mydb = mysql.connector.connect(\n",
        "    host = \"localhost\",\n",
        "    user = \"abc\",\n",
        "    password = \"password\"\n",
        ")\n",
        "# creating Cursor\n",
        "cursor = mydb.cursor()\n",
        "\n",
        "#Query\n",
        "cursor.execute(\"Select * from TEST1\")\n",
        "\n",
        "#retrive and print data\n",
        "result = cursor.fetchall()\n",
        "for row in result:\n",
        "    print(row)\n",
        "\n",
        "#closing connection\n",
        "cursor.close()\n",
        "mydb.close()\n",
        "```"
      ],
      "metadata": {
        "id": "8UEMxobxeSR-"
      }
    },
    {
      "cell_type": "markdown",
      "source": [
        "**cursor():** It is an cunnection object which allow you to execute the SQL statement and retrive result from database.\n",
        "\n",
        "**execute():** It is used to execute the SQL queries or statement.\n"
      ],
      "metadata": {
        "id": "36VFO4EFi_Gp"
      }
    },
    {
      "cell_type": "markdown",
      "source": [
        "**Q7):** Give the order of execution of SQL clauses in an SQL query.?"
      ],
      "metadata": {
        "id": "dv98xbscjyeV"
      }
    },
    {
      "cell_type": "markdown",
      "source": [
        "**Solution:** \n",
        "\n",
        "***Order of Execution of SQL Commands*** \n",
        "\n",
        "1. **FROM/JOIN:** The FROM and/or JOIN clauses are executed first to determine the data of interest.\n",
        "2. **WHERE:** The WHERE clause is executed to filter out records that do not meet the constraints.\n",
        "3. **GROUP BY:** The GROUP BY clause is executed to group the data based on the values in one or more columns.\n",
        "4. **HAVING:** The HAVING clause is executed to remove the created grouped records that don’t meet the constraints\n",
        "5. **SELECT:** The SELECT clause is executed to derive all desired columns and expressions.\n",
        "6. **ORDER BY:** The ORDER BY clause is executed to sort the derived values in ascending or descending order."
      ],
      "metadata": {
        "id": "JczwA1YQj2aq"
      }
    },
    {
      "cell_type": "code",
      "source": [],
      "metadata": {
        "id": "IyLTRygnvT3Q"
      },
      "execution_count": null,
      "outputs": []
    },
    {
      "cell_type": "code",
      "execution_count": null,
      "metadata": {
        "id": "gIQ86uuCnJje"
      },
      "outputs": [],
      "source": []
    }
  ]
}