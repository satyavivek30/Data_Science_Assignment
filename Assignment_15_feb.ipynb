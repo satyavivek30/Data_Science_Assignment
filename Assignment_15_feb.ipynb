{
  "nbformat": 4,
  "nbformat_minor": 0,
  "metadata": {
    "colab": {
      "provenance": []
    },
    "kernelspec": {
      "name": "python3",
      "display_name": "Python 3"
    },
    "language_info": {
      "name": "python"
    }
  },
  "cells": [
    {
      "cell_type": "markdown",
      "source": [
        "## Assignment 15 Feb 2023"
      ],
      "metadata": {
        "id": "Ca785KeoSIYD"
      }
    },
    {
      "cell_type": "markdown",
      "source": [
        "**Q1)->** What is multiprocessing in python? Why is it useful?"
      ],
      "metadata": {
        "id": "dcXsk5fCSNeF"
      }
    },
    {
      "cell_type": "markdown",
      "source": [
        "**Solution:** \n",
        "Multiprocessing in Python is a built-in package that allows the system to run multiple processes simultaneously. It will enable the breaking of applications into smaller threads that can run independently.\n",
        "\n",
        "Here some reason why multiprocessing is used in python:\n",
        "\n",
        "1. Increased performance\n",
        "2. Efficient utilization of resources\n",
        "3. Improved responsiveness"
      ],
      "metadata": {
        "id": "07sdcWI4SVLm"
      }
    },
    {
      "cell_type": "markdown",
      "source": [
        "**Q2)->** What are the differences between multiprocessing and multithreading?"
      ],
      "metadata": {
        "id": "xTlD7oEQdOn3"
      }
    },
    {
      "cell_type": "markdown",
      "source": [
        "**Solution:**\n",
        "\n",
        "Difference Between multiprocessing and multithreading are as follows:\n",
        "\n",
        "**Multiprocessing**\n",
        "1. In Multiprocessing, CPUs are added for increasing computing power.\n",
        "2. In Multiprocessing, Many processes are executed simultaneously.\n",
        "3. Multiprocessing are classified into Symmetric and Asymmetric.\n",
        "4. In Multiprocessing, Process creation is a time-consuming process.\n",
        "5. In Multiprocessing, every process owned a separate address space.\n",
        "\n",
        "**MultiThreading**\n",
        "1. While In Multithreading, many threads are created of a single process for increasing computing power.\n",
        "2. While in multithreading, many threads of a process are executed simultaneously.\n",
        "3. While Multithreading is not classified in any categories.\n",
        "4. While in Multithreading, process creation is according to economical.\n",
        "5. While in Multithreading, a common address space is shared by all the threads."
      ],
      "metadata": {
        "id": "pnxP42tjdmln"
      }
    },
    {
      "cell_type": "markdown",
      "source": [
        "**Q3)->** Write a python code to create a process using the multiprocessing module?"
      ],
      "metadata": {
        "id": "h6_X-z3wfMZz"
      }
    },
    {
      "cell_type": "code",
      "source": [
        "#Solution\n",
        "\n",
        "import multiprocessing\n",
        "\n",
        "def display(state):\n",
        "    print(\"The name of state are : \", state)\n",
        "\n",
        "if __name__ == \"__main__\":\n",
        "    name = \"Delhi\"\n",
        "    p1 = multiprocessing.Process(target = display, args = (name,))\n",
        "    sname.append(p1)\n",
        "    p1.start()\n",
        "\n"
      ],
      "metadata": {
        "id": "8Nqs5u3USH8Q",
        "colab": {
          "base_uri": "https://localhost:8080/"
        },
        "outputId": "93256e4c-b572-4244-83ed-ef51ff15b11a"
      },
      "execution_count": 16,
      "outputs": [
        {
          "output_type": "stream",
          "name": "stdout",
          "text": [
            "The name of state are :  Delhi\n"
          ]
        }
      ]
    },
    {
      "cell_type": "markdown",
      "source": [
        "**Q4)->** What is a multiprocessing pool in python? Why is it used?"
      ],
      "metadata": {
        "id": "DwbjwPOFP6Oi"
      }
    },
    {
      "cell_type": "markdown",
      "source": [
        "**Solution:** Python multiprocessing Pool can be used for parallel execution of a function across multiple input values, distributing the input data across processes.\n",
        "\n",
        "The Pool class provides a convenient way to parallelize the execution of a function across multiple input values. It abstracts away the details of creating and managing individual processes, making it easier to leverage the benefits of multiprocessing."
      ],
      "metadata": {
        "id": "fkTpL5mpP_mh"
      }
    },
    {
      "cell_type": "markdown",
      "source": [
        "**Q5)->**How can we create a pool of worker processes in python using the multiprocessing module?"
      ],
      "metadata": {
        "id": "g0N4_C6gS07f"
      }
    },
    {
      "cell_type": "code",
      "source": [
        "import multiprocessing\n",
        "import time\n",
        "\n",
        "work = (['A', 5],['B', 2],['C', 1],['D', 3],['E', 4])\n",
        "\n",
        "def work_log(work_data):\n",
        "    print(\"Process %s waiting %s second \"%(work_data[0], work_data[1]))\n",
        "    time.sleep(int(work_data[1]))\n",
        "    print(\"The process %s is finished\"%work_data[0])\n",
        "\n",
        "def pool_handle():\n",
        "    p = multiprocessing.Pool(2)\n",
        "    p.map(work_log, work)\n",
        "\n",
        "if __name__ == \"__main__\":\n",
        "    pool_handle()"
      ],
      "metadata": {
        "colab": {
          "base_uri": "https://localhost:8080/"
        },
        "id": "Lygc1j3dHX74",
        "outputId": "bc84a3eb-1989-4852-d1f1-3bb13000f37b"
      },
      "execution_count": 23,
      "outputs": [
        {
          "output_type": "stream",
          "name": "stdout",
          "text": [
            "Process B waiting 2 second Process A waiting 5 second \n",
            "\n",
            "The process B is finished\n",
            "Process C waiting 1 second \n",
            "The process C is finished\n",
            "Process D waiting 3 second \n",
            "The process A is finished\n",
            "Process E waiting 4 second \n",
            "The process D is finished\n",
            "The process E is finished\n"
          ]
        }
      ]
    },
    {
      "cell_type": "code",
      "source": [
        "import multiprocessing\n",
        "\n",
        "def print_number(number):\n",
        "    print(\"Process\",multiprocessing.current_process().name,  \"prints\", number)\n",
        "\n",
        "if __name__ == '__main__':\n",
        "    pool = multiprocessing.Pool(processes=4)\n",
        "\n",
        "    numbers = [1, 2, 3, 4]\n",
        "\n",
        "    pool.map(print_number, numbers)\n",
        "\n",
        "    pool.close()\n",
        "    pool.join()\n"
      ],
      "metadata": {
        "colab": {
          "base_uri": "https://localhost:8080/"
        },
        "id": "WVZ1nJN3RbSt",
        "outputId": "6bd4a297-d133-4dbc-e70e-5242a55417e6"
      },
      "execution_count": 29,
      "outputs": [
        {
          "output_type": "stream",
          "name": "stdout",
          "text": [
            "ProcessProcess ForkPoolWorker-74 prints ProcessProcess 4ForkPoolWorker-72  \n",
            "ForkPoolWorker-73  ForkPoolWorker-71prints prints  prints32 \n",
            "\n",
            "1\n"
          ]
        }
      ]
    },
    {
      "cell_type": "code",
      "source": [],
      "metadata": {
        "id": "Bv9Vf9x0Tkhb"
      },
      "execution_count": null,
      "outputs": []
    }
  ]
}