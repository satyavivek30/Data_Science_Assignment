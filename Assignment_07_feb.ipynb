{
  "nbformat": 4,
  "nbformat_minor": 0,
  "metadata": {
    "colab": {
      "provenance": []
    },
    "kernelspec": {
      "name": "python3",
      "display_name": "Python 3"
    },
    "language_info": {
      "name": "python"
    }
  },
  "cells": [
    {
      "cell_type": "markdown",
      "source": [
        "Question 1 -> "
      ],
      "metadata": {
        "id": "ZgZ0swBx9oJR"
      }
    },
    {
      "cell_type": "markdown",
      "source": [
        "You are writing code for a company. The requirement of the company is that you create a python\n",
        "function that will check whether the password entered by the user is correct or not. The function should\n",
        "take the password as input and return the string “Valid Password” if the entered password follows the\n",
        "below-given password guidelines else it should return “Invalid Password”.\n",
        "\n",
        "Note: \n",
        "1. The Password should contain at least two uppercase letters and at least two lowercase letters.\n",
        "2. The Password should contain at least a number and three special characters.\n",
        "3. The length of the password should be 10 characters long."
      ],
      "metadata": {
        "id": "nGyBM3tA9lAj"
      }
    },
    {
      "cell_type": "code",
      "execution_count": null,
      "metadata": {
        "colab": {
          "base_uri": "https://localhost:8080/"
        },
        "id": "bK8K3_EG9Lgf",
        "outputId": "92cdc78a-21ac-4d67-fbfe-1686b5cfc299"
      },
      "outputs": [
        {
          "output_type": "stream",
          "name": "stdout",
          "text": [
            "Enter the password : astyahu!123\n",
            "Invalid Password\n"
          ]
        }
      ],
      "source": [
        "import re\n",
        "def validate_password(password):\n",
        "\n",
        "  #The length of the password should be 10 characters long.\n",
        "  if(len(password) < 10):\n",
        "    return \"Invalid Password !\"\n",
        "\n",
        "  # The Password should contain at least two uppercase letters and at least two lowercase letters\n",
        "\n",
        "  if (not re.search(r'[A-Z].*[A-Z]', password) or not re.search(r'[a-z].*[a-z]', password)):\n",
        "    return \"Invalid Password\"\n",
        "\n",
        "  #The Password should contain at least a number and three special characters.\n",
        "\n",
        "  if (not re.search(r'\\d', password) or not re.findall(r'[!@#$%^&*(),.?\":{}|<>]', password)):\n",
        "    return \"Invalid Password\"\n",
        "\n",
        "  return \"Valid Password\"\n",
        "\n",
        "password = str(input(\"Enter the password : \"))\n",
        "response = validate_password(password)\n",
        "print(response)"
      ]
    },
    {
      "cell_type": "markdown",
      "source": [
        "Question 2-> "
      ],
      "metadata": {
        "id": "yNInNEh2BhBA"
      }
    },
    {
      "cell_type": "markdown",
      "source": [
        "**A)->**   Check if the string starts with a particular letter. Using filter function\n"
      ],
      "metadata": {
        "id": "rsFreg0lBjyH"
      }
    },
    {
      "cell_type": "code",
      "source": [
        "string = [\"Hello!\", \"Good Morning\", \"how you doing\", \"I am at Home\"]\n",
        "letter = str(input(\"Enthet the letter to filter \"))\n",
        "\n",
        "solution = list(filter(lambda x: x.startswith(letter), string))\n",
        "\n",
        "print(solution)\n"
      ],
      "metadata": {
        "colab": {
          "base_uri": "https://localhost:8080/"
        },
        "id": "gYSUFEaS__f6",
        "outputId": "0887b6f9-c501-4a23-91e5-a6df89580fdf"
      },
      "execution_count": null,
      "outputs": [
        {
          "output_type": "stream",
          "name": "stdout",
          "text": [
            "Enthet the letter to filter H\n",
            "['Hello!']\n"
          ]
        }
      ]
    },
    {
      "cell_type": "markdown",
      "source": [
        "**B)->**   Check if the string is numeric using list comperhension ?\n"
      ],
      "metadata": {
        "id": "ICZHC5f5DwsT"
      }
    },
    {
      "cell_type": "code",
      "source": [
        "string = (\"14201\", \"asah1457\", \"748\", \"-584\")\n",
        "\n",
        "solution = [s.isdigit() for s in string]\n",
        "print(solution)"
      ],
      "metadata": {
        "colab": {
          "base_uri": "https://localhost:8080/"
        },
        "id": "_GEUTUusCuDJ",
        "outputId": "6eb63b34-d1b6-4714-d525-87df306d480b"
      },
      "execution_count": null,
      "outputs": [
        {
          "output_type": "stream",
          "name": "stdout",
          "text": [
            "[True, False, True, False]\n"
          ]
        }
      ]
    },
    {
      "cell_type": "markdown",
      "source": [
        "**C)->** Sort a list of tuples having fruit names and their quantity. [(\"mango\",99),(\"orange\",80), (\"grapes\", 1000)] using lambda function\n"
      ],
      "metadata": {
        "id": "lrF3361rGdoZ"
      }
    },
    {
      "cell_type": "code",
      "source": [
        "fruits = [(\"mango\",99),(\"orange\",80), (\"grapes\", 1000)]\n",
        "\n",
        "result = list(sorted(fruits, key = lambda x: x[1] ))\n",
        "print(result)"
      ],
      "metadata": {
        "colab": {
          "base_uri": "https://localhost:8080/"
        },
        "id": "OkgjMwMLEk0V",
        "outputId": "6658e24e-bc16-4b30-c156-503cbea91987"
      },
      "execution_count": null,
      "outputs": [
        {
          "output_type": "stream",
          "name": "stdout",
          "text": [
            "[('orange', 80), ('mango', 99), ('grapes', 1000)]\n"
          ]
        }
      ]
    },
    {
      "cell_type": "markdown",
      "source": [
        "**D)->** Find the squares of numbers from 1 to 10 using map *function*"
      ],
      "metadata": {
        "id": "0FDzWKy_M94O"
      }
    },
    {
      "cell_type": "code",
      "source": [
        "numbers = [1,2,3,4,5,6,7,8,9,10]\n",
        "\n",
        "result = list(map(lambda x: x**2, numbers))\n",
        "print(result)"
      ],
      "metadata": {
        "id": "Ko1N0nW6GXTX",
        "colab": {
          "base_uri": "https://localhost:8080/"
        },
        "outputId": "ffab7b89-79de-465e-f5ec-4527aa1505ab"
      },
      "execution_count": 4,
      "outputs": [
        {
          "output_type": "stream",
          "name": "stdout",
          "text": [
            "[1, 4, 9, 16, 25, 36, 49, 64, 81, 100]\n"
          ]
        }
      ]
    },
    {
      "cell_type": "markdown",
      "source": [
        "**E)->** Find the cube root of numbers from 1 to 10 using map *function*"
      ],
      "metadata": {
        "id": "gi0vbXsdN3nS"
      }
    },
    {
      "cell_type": "code",
      "source": [
        "numbers = [1,2,3,4,5,6,7,8,9,10]\n",
        "\n",
        "result = list(map(lambda x : x**(1/3), numbers))\n",
        "print(result)"
      ],
      "metadata": {
        "colab": {
          "base_uri": "https://localhost:8080/"
        },
        "id": "PqDQbMnHNd8u",
        "outputId": "95a0a3b7-47ea-411a-f030-21befb7921ba"
      },
      "execution_count": 5,
      "outputs": [
        {
          "output_type": "stream",
          "name": "stdout",
          "text": [
            "[1.0, 1.2599210498948732, 1.4422495703074083, 1.5874010519681994, 1.7099759466766968, 1.8171205928321397, 1.912931182772389, 2.0, 2.080083823051904, 2.154434690031884]\n"
          ]
        }
      ]
    },
    {
      "cell_type": "markdown",
      "source": [
        "**F)->** Check if a given number is even using map function\n",
        "\n",
        "\n"
      ],
      "metadata": {
        "id": "gfAcURhOOmP5"
      }
    },
    {
      "cell_type": "code",
      "source": [
        "numbers = [1,2,3,4,5,6,7,8,9,10]\n",
        "\n",
        "even_number = list(filter(lambda x : x%2 == 0, numbers))\n",
        "print(even_number) "
      ],
      "metadata": {
        "colab": {
          "base_uri": "https://localhost:8080/"
        },
        "id": "6G4WfSAvOep-",
        "outputId": "cdd1f733-21d6-45f5-b9cf-043aba844814"
      },
      "execution_count": 8,
      "outputs": [
        {
          "output_type": "stream",
          "name": "stdout",
          "text": [
            "[2, 4, 6, 8, 10]\n"
          ]
        }
      ]
    },
    {
      "cell_type": "markdown",
      "source": [
        "**E)->** Filter odd numbers from the given list"
      ],
      "metadata": {
        "id": "R0M429U9RIqH"
      }
    },
    {
      "cell_type": "code",
      "source": [
        "numbers =[1,2,3,4,5,6,7,8,9,10]\n",
        "\n",
        "odd_number = list(filter(lambda x : x % 2 != 0, numbers))\n",
        "print(odd_number)"
      ],
      "metadata": {
        "colab": {
          "base_uri": "https://localhost:8080/"
        },
        "id": "kG5gVT9sQzjf",
        "outputId": "0a7a7aa4-258d-4105-d629-de019203891e"
      },
      "execution_count": 9,
      "outputs": [
        {
          "output_type": "stream",
          "name": "stdout",
          "text": [
            "[1, 3, 5, 7, 9]\n"
          ]
        }
      ]
    },
    {
      "cell_type": "markdown",
      "source": [
        "**F)->** Sort a list of integers into positive and negative integers lists."
      ],
      "metadata": {
        "id": "XD1KUdGaRnKx"
      }
    },
    {
      "cell_type": "code",
      "source": [
        "numbers = [1,2,3,4,5,6,-1,-2,-3,-4,-5,0]\n",
        "\n",
        "positive = list(filter(lambda x : x >= 0, numbers))\n",
        "negative = list(filter(lambda x : x < 0, numbers))\n",
        "\n",
        "print(\"positive\", positive)\n",
        "print(\"negative\", negative)"
      ],
      "metadata": {
        "colab": {
          "base_uri": "https://localhost:8080/"
        },
        "id": "5D1KqfaNRgO7",
        "outputId": "9eada54d-5101-4d93-f898-b5c3504b9242"
      },
      "execution_count": 11,
      "outputs": [
        {
          "output_type": "stream",
          "name": "stdout",
          "text": [
            "positive [1, 2, 3, 4, 5, 6, 0]\n",
            "negative [-1, -2, -3, -4, -5]\n"
          ]
        }
      ]
    },
    {
      "cell_type": "code",
      "source": [],
      "metadata": {
        "id": "dBQv1UKuSCz7"
      },
      "execution_count": null,
      "outputs": []
    }
  ]
}